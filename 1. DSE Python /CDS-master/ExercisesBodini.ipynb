{
 "cells": [
  {
   "cell_type": "markdown",
   "metadata": {},
   "source": [
    "# Exercises in Python (Guest lecturer: Matteo Bodini)\n",
    "\n",
    "In the first three lessons, you have seen:\n",
    "\n",
    "- lists (including list comprehensions);\n",
    "- tuples;\n",
    "- flow control (selection and loop statements);\n",
    "- modules;\n",
    "- dictionaries;\n",
    "\n",
    "We will revise the above topics with five exercises.\n",
    "\n",
    "## Exercise 1\n",
    "\n",
    "Write a program to create a multiplication table, from 2 to 20 with a step of 2, of a number.\n",
    "\n",
    "For instance, given ``n = 10``, the program should output:\n",
    "\n",
    "``10 x 2 = 20\n",
    "10 x 4 = 40\n",
    "10 x 6 = 60\n",
    "10 x 8 = 80\n",
    "10 x 10 = 100\n",
    "10 x 12 = 120\n",
    "10 x 14 = 140\n",
    "10 x 16 = 160\n",
    "10 x 18 = 180\n",
    "10 x 20 = 200``"
   ]
  },
  {
   "cell_type": "markdown",
   "metadata": {},
   "source": [
    "We can simply address the required task using a ``for`` loop and ``range``: it represents an immutable sequence of numbers and is commonly used for looping a specific number of times in for loops."
   ]
  },
  {
   "cell_type": "code",
   "execution_count": 1,
   "metadata": {},
   "outputs": [
    {
     "name": "stdout",
     "output_type": "stream",
     "text": [
      "10 x 2 = 20\n",
      "10 x 4 = 40\n",
      "10 x 6 = 60\n",
      "10 x 8 = 80\n",
      "10 x 10 = 100\n",
      "10 x 12 = 120\n",
      "10 x 14 = 140\n",
      "10 x 16 = 160\n",
      "10 x 18 = 180\n",
      "10 x 20 = 200\n"
     ]
    }
   ],
   "source": [
    "n = 10\n",
    "\n",
    "for i in range(1, 21):\n",
    "    if(i % 2 == 0) :\n",
    "        v = n * i\n",
    "        print(n, 'x', i, '=' , v)"
   ]
  },
  {
   "cell_type": "markdown",
   "metadata": {},
   "source": [
    "We recall that ``range`` also accept a ``step`` argument. Then, we improve the code avoiding the ``if`` statement and setting ``step = 2``.\n",
    "\n",
    "We also get rid of the variable ``v``: if you don't need to use its value later, just don't create it."
   ]
  },
  {
   "cell_type": "code",
   "execution_count": 2,
   "metadata": {},
   "outputs": [
    {
     "name": "stdout",
     "output_type": "stream",
     "text": [
      "10 x 2 = 20\n",
      "10 x 4 = 40\n",
      "10 x 6 = 60\n",
      "10 x 8 = 80\n",
      "10 x 10 = 100\n",
      "10 x 12 = 120\n",
      "10 x 14 = 140\n",
      "10 x 16 = 160\n",
      "10 x 18 = 180\n",
      "10 x 20 = 200\n"
     ]
    }
   ],
   "source": [
    "n = 10\n",
    "\n",
    "for i in range(2, 21, 2):\n",
    "    print(n, 'x', i, '=', n * i)"
   ]
  },
  {
   "cell_type": "markdown",
   "metadata": {},
   "source": [
    "Finally, we write the same program in one line using list comprehensions: they provide a compact way to filter elements from a sequence and they implement the following for loop\n",
    "\n",
    "``result = []\n",
    "for <variable> in <sequence>:\n",
    "    if <condition>:\n",
    "        result.append(<expression>)``\n",
    "        \n",
    "in the following equivalent form\n",
    "\n",
    "``[<expression> for <variable> in <sequence> if <condition>]``\n",
    "\n",
    "In our case, we avoid the filtering part and we can obtain results as:"
   ]
  },
  {
   "cell_type": "code",
   "execution_count": 3,
   "metadata": {},
   "outputs": [
    {
     "data": {
      "text/plain": [
       "[40, 80, 120, 160, 200, 240, 280, 320, 360, 400]"
      ]
     },
     "execution_count": 3,
     "metadata": {},
     "output_type": "execute_result"
    }
   ],
   "source": [
    "n = 20\n",
    "[(n * i) for i in range(2, 21, 2)]"
   ]
  },
  {
   "cell_type": "markdown",
   "metadata": {},
   "source": [
    "To obtain the same pretty printing, we create a formatted string inside the list comprehension."
   ]
  },
  {
   "cell_type": "code",
   "execution_count": 4,
   "metadata": {},
   "outputs": [
    {
     "data": {
      "text/plain": [
       "['20 x 2 = 40',\n",
       " '20 x 4 = 80',\n",
       " '20 x 6 = 120',\n",
       " '20 x 8 = 160',\n",
       " '20 x 10 = 200',\n",
       " '20 x 12 = 240',\n",
       " '20 x 14 = 280',\n",
       " '20 x 16 = 320',\n",
       " '20 x 18 = 360',\n",
       " '20 x 20 = 400']"
      ]
     },
     "execution_count": 4,
     "metadata": {},
     "output_type": "execute_result"
    }
   ],
   "source": [
    "[str(n) + ' x ' + str(i) + ' = '  + str(n * i) for i in range(2, 21, 2)]"
   ]
  },
  {
   "cell_type": "markdown",
   "metadata": {},
   "source": [
    "Finally, we use the ``join()`` method of strings: it concatenates each element of an iterable (such our list) to a string and returns the concatenated string. The syntax is ``string.join(iterable)``. An example:\n"
   ]
  },
  {
   "cell_type": "code",
   "execution_count": 5,
   "metadata": {},
   "outputs": [
    {
     "data": {
      "text/plain": [
       "'a-b-c-d'"
      ]
     },
     "execution_count": 5,
     "metadata": {},
     "output_type": "execute_result"
    }
   ],
   "source": [
    "ls = [\"a\", \"b\", \"c\", \"d\"]\n",
    "\"-\".join(ls)"
   ]
  },
  {
   "cell_type": "markdown",
   "metadata": {},
   "source": [
    "We concatenate with ``\\n`` to go to the next line, then we print."
   ]
  },
  {
   "cell_type": "code",
   "execution_count": 6,
   "metadata": {},
   "outputs": [
    {
     "name": "stdout",
     "output_type": "stream",
     "text": [
      "20 x 2 = 40\n",
      "20 x 4 = 80\n",
      "20 x 6 = 120\n",
      "20 x 8 = 160\n",
      "20 x 10 = 200\n",
      "20 x 12 = 240\n",
      "20 x 14 = 280\n",
      "20 x 16 = 320\n",
      "20 x 18 = 360\n",
      "20 x 20 = 400\n"
     ]
    }
   ],
   "source": [
    "print(\"\\n\".join([str(n) + ' x ' + str(i) + ' = '  + str(n * i) for i in range(2, 21, 2)]))"
   ]
  },
  {
   "cell_type": "markdown",
   "metadata": {},
   "source": [
    "## Exercise 2\n",
    "\n",
    "Write a Python program to replace the last value of the tuples in a list with the product of the respective first two elements of the tuple. Suppose that the list is composed only by tuples of three integers.\n",
    "\n",
    "For instance, given in input the list ``l = [(10, 20, 40), (40, 50, 60), (70, 80, 90)]``, the program should output the following list of tuples\n",
    "``[(10, 20, 200), (40, 50, 2000), (70, 80, 5600)]``."
   ]
  },
  {
   "cell_type": "code",
   "execution_count": 7,
   "metadata": {},
   "outputs": [
    {
     "data": {
      "text/plain": [
       "[(10, 20, 200), (40, 50, 2000), (70, 80, 5600)]"
      ]
     },
     "execution_count": 7,
     "metadata": {},
     "output_type": "execute_result"
    }
   ],
   "source": [
    "l = [(10, 20, 40), (40, 50, 60), (70, 80, 90)]\n",
    "\n",
    "for i in range(0, len(l)) :\n",
    "    a, b, c = l[i]\n",
    "    new_t = (a, b, a * b)\n",
    "    l[i] = new_t\n",
    "l"
   ]
  },
  {
   "cell_type": "markdown",
   "metadata": {},
   "source": [
    "Now, suppose that we want to address the same task as above, but the input list is now composed of tuples with a variable number of elements.\n",
    "\n",
    "For instance, consider the list ``l = [(10, 20, 100, 40), (40, 50, 60), (70, 80, 100, 200, 300, 90)]``, the program should output the following list of tuples ``[(10, 20, 100, 200), (40, 50, 2000), (70, 80, 100, 200, 300, 5600)]``.\n",
    "\n",
    "We can write a one-line expression using the slice operator, whose syntax is ``[start:stop:step]``."
   ]
  },
  {
   "cell_type": "code",
   "execution_count": 8,
   "metadata": {},
   "outputs": [
    {
     "data": {
      "text/plain": [
       "(10, 20, 100, 200)"
      ]
     },
     "execution_count": 8,
     "metadata": {},
     "output_type": "execute_result"
    }
   ],
   "source": [
    "a = (10, 20, 100, 40)\n",
    "a[:-1] + (a[0] * a[1],) # recall that (x,) creates a tuple with a single element x in it "
   ]
  },
  {
   "cell_type": "code",
   "execution_count": 9,
   "metadata": {},
   "outputs": [
    {
     "data": {
      "text/plain": [
       "[(10, 20, 100, 200), (40, 50, 2000), (70, 80, 100, 200, 300, 5600)]"
      ]
     },
     "execution_count": 9,
     "metadata": {},
     "output_type": "execute_result"
    }
   ],
   "source": [
    "ls = [(10, 20, 100, 40), (40, 50, 60), (70, 80, 100, 200, 300, 90)]\n",
    "\n",
    "[t[:-1] + ((t[0] * t[1]),) for t in ls]"
   ]
  },
  {
   "cell_type": "markdown",
   "metadata": {},
   "source": [
    "## Exercise 3\n",
    "\n",
    "Write a program to find the shortest and the longest word in a given string.\n",
    "\n",
    "For instance, consider the string ``string = \"A quick red fox\"``. The program should output\n",
    "\n",
    "``Shortest word: A\n",
    "Longest word: quick``\n",
    "\n",
    "A possible strategy is:\n",
    "\n",
    "- creating a list containing all the words of the sentence;\n",
    "- loop on the list and compute both the shortest and the longest word at the same time."
   ]
  },
  {
   "cell_type": "code",
   "execution_count": 10,
   "metadata": {},
   "outputs": [
    {
     "name": "stdout",
     "output_type": "stream",
     "text": [
      "Shortest word: A\n",
      "Longest word: quick\n"
     ]
    }
   ],
   "source": [
    "# the input string\n",
    "string = \"A quick red fox\"\n",
    "\n",
    "# 1. Let's build a list containing all the words of the sentence\n",
    "words = []\n",
    "word = \"\"\n",
    "string = string + \" \"\n",
    "for i in range(0, len(string)):\n",
    "    if(string[i] != \" \"):\n",
    "        word = word + string[i]\n",
    "    else:\n",
    "        words.append(word)\n",
    "        word = \"\"\n",
    "          \n",
    "shortest = longest = words[0]\n",
    "   \n",
    "# 2. Let's loop on the list and compute both shortest and longest word at the same time.\n",
    "for k in range(0, len(words)):\n",
    "    if(len(shortest) > len(words[k])):\n",
    "        shortest = words[k]\n",
    "    if(len(longest) < len(words[k])):\n",
    "        longest = words[k]\n",
    "\n",
    "print(\"Shortest word: \" + shortest)\n",
    "print(\"Longest word: \" + longest)"
   ]
  },
  {
   "cell_type": "markdown",
   "metadata": {},
   "source": [
    "Let's refine the above code. Point 1 can be adressed using the Python ``split()`` built-in method of strings.\n",
    "\n",
    "The ``split()`` method splits a string into a list. You can specify the separator, and default separator is any whitespace."
   ]
  },
  {
   "cell_type": "code",
   "execution_count": 11,
   "metadata": {},
   "outputs": [
    {
     "data": {
      "text/plain": [
       "['A', 'quick', 'red', 'fox']"
      ]
     },
     "execution_count": 11,
     "metadata": {},
     "output_type": "execute_result"
    }
   ],
   "source": [
    "string = \"A quick red fox\"\n",
    "words = string.split()\n",
    "words"
   ]
  },
  {
   "cell_type": "markdown",
   "metadata": {},
   "source": [
    "Also Point 2 can be adressed in a smarter way. We can use the built-in functions ``min()`` and ``max()``, which respectively returns the smallest and largest of their input values.\n",
    "\n",
    "Such functions provide a parameter named ``key``, which allow to set a function to indicate the sort order. We must specify ``key = len``, as the default ordering for strings is the lexicographic one."
   ]
  },
  {
   "cell_type": "code",
   "execution_count": 12,
   "metadata": {},
   "outputs": [
    {
     "name": "stdout",
     "output_type": "stream",
     "text": [
      "Shortest word: A\n",
      "Longest word: quick\n"
     ]
    }
   ],
   "source": [
    "shortest = min(words, key = len)\n",
    "longest = max(words, key = len)\n",
    "\n",
    "print(\"Shortest word: \" + shortest)\n",
    "print(\"Longest word: \" + longest)"
   ]
  },
  {
   "cell_type": "markdown",
   "metadata": {},
   "source": [
    "At the end of the day, the exercise can be solved in the following way:"
   ]
  },
  {
   "cell_type": "code",
   "execution_count": 13,
   "metadata": {},
   "outputs": [
    {
     "name": "stdout",
     "output_type": "stream",
     "text": [
      "Shortest word: quick\n",
      "Longest word: A\n"
     ]
    }
   ],
   "source": [
    "# the input string\n",
    "string = \"A quick red fox\"\n",
    "\n",
    "# list of the words of the sentence\n",
    "words = string.split()\n",
    "\n",
    "# get the smallest and longest word\n",
    "shortest, longest = max(words, key = len), min(words, key = len)\n",
    "\n",
    "print(\"Shortest word: \" + shortest)\n",
    "print(\"Longest word: \" + longest)"
   ]
  },
  {
   "cell_type": "markdown",
   "metadata": {},
   "source": [
    "## Exercise 4\n",
    "\n",
    "Write a Python program to remove duplicates from a list of lists.\n",
    "\n",
    "For instance, given in input the list ``ls = [[10, 20], [40], [30, 56, 25], [10, 20], [33], [40]]``, the program should output the following list without duplicates: ``[[10, 20], [40], [30, 56, 25], [33]]``.\n",
    "\n",
    "We initialize a new empty list named ``ls_no_dup``. We can address the exercise using two ``for`` loops: with the first one we pick an element from the original list, and with the second one we check if there is another equal element in the ``ls_no_dup`` list. If the element we are currently considering is yet present in ``ls_no_dup`` we don't add it again, otherwise we add it."
   ]
  },
  {
   "cell_type": "code",
   "execution_count": 14,
   "metadata": {},
   "outputs": [
    {
     "data": {
      "text/plain": [
       "[[10, 20], [40], [30, 56, 25], [33]]"
      ]
     },
     "execution_count": 14,
     "metadata": {},
     "output_type": "execute_result"
    }
   ],
   "source": [
    "ls = [[10, 20], [40], [30, 56, 25], [10, 20], [33], [40]]\n",
    "ls_no_dup = []\n",
    "\n",
    "for i in range(0, len(ls)) :\n",
    "    curr_elem = ls[i]\n",
    "    duplicate = False\n",
    "    for j in range(0, len(ls_no_dup)) :\n",
    "        if(curr_elem == ls_no_dup[j]) :\n",
    "            duplicate = True\n",
    "    if(duplicate == False) :\n",
    "        ls_no_dup = ls_no_dup + [curr_elem]\n",
    "ls_no_dup"
   ]
  },
  {
   "cell_type": "markdown",
   "metadata": {},
   "source": [
    "We can simplify the above code using in a smarter way the conditional statements:"
   ]
  },
  {
   "cell_type": "code",
   "execution_count": 15,
   "metadata": {},
   "outputs": [
    {
     "data": {
      "text/plain": [
       "[[10, 20], [40], [30, 56, 25], [33]]"
      ]
     },
     "execution_count": 15,
     "metadata": {},
     "output_type": "execute_result"
    }
   ],
   "source": [
    "ls = [[10, 20], [40], [30, 56, 25], [10, 20], [33], [40]]\n",
    "ls_no_dup = []\n",
    "\n",
    "for i in ls:\n",
    "    if i not in ls_no_dup :\n",
    "        ls_no_dup.append(i)\n",
    "ls_no_dup"
   ]
  },
  {
   "cell_type": "markdown",
   "metadata": {},
   "source": [
    "Other common ways people use to tackle duplicates include:\n",
    "- dictionaries: the ``fromkeys()`` method of ``dict`` returns a dictionary with the specified keys. If we cast the dictionary, we obtain a list with no duplicate values.\n",
    "- sets: the ``set()`` function, return a set whose does not allow duplicates, by its mathematical definition. Again, if we cast the set to a list, we obtain a list with no duplicate values.\n",
    "\n",
    "\n",
    "Here we can't adopt the latter solutions: you can't use a list as the key in a ``dict``, since ``dict`` keys need to be immutable. The same holds for ``set``."
   ]
  },
  {
   "cell_type": "code",
   "execution_count": 16,
   "metadata": {},
   "outputs": [
    {
     "ename": "TypeError",
     "evalue": "unhashable type: 'list'",
     "output_type": "error",
     "traceback": [
      "\u001b[0;31m---------------------------------------------------------------------------\u001b[0m",
      "\u001b[0;31mTypeError\u001b[0m                                 Traceback (most recent call last)",
      "\u001b[0;32m<ipython-input-16-790b364a4e95>\u001b[0m in \u001b[0;36m<module>\u001b[0;34m()\u001b[0m\n\u001b[0;32m----> 1\u001b[0;31m \u001b[0mlist\u001b[0m\u001b[0;34m(\u001b[0m\u001b[0mdict\u001b[0m\u001b[0;34m.\u001b[0m\u001b[0mfromkeys\u001b[0m\u001b[0;34m(\u001b[0m\u001b[0mls\u001b[0m\u001b[0;34m)\u001b[0m\u001b[0;34m)\u001b[0m\u001b[0;34m\u001b[0m\u001b[0;34m\u001b[0m\u001b[0m\n\u001b[0m",
      "\u001b[0;31mTypeError\u001b[0m: unhashable type: 'list'"
     ]
    }
   ],
   "source": [
    "list(dict.fromkeys(ls))"
   ]
  },
  {
   "cell_type": "code",
   "execution_count": 17,
   "metadata": {},
   "outputs": [
    {
     "ename": "TypeError",
     "evalue": "unhashable type: 'list'",
     "output_type": "error",
     "traceback": [
      "\u001b[0;31m---------------------------------------------------------------------------\u001b[0m",
      "\u001b[0;31mTypeError\u001b[0m                                 Traceback (most recent call last)",
      "\u001b[0;32m<ipython-input-17-068d33855a57>\u001b[0m in \u001b[0;36m<module>\u001b[0;34m()\u001b[0m\n\u001b[0;32m----> 1\u001b[0;31m \u001b[0mlist\u001b[0m\u001b[0;34m(\u001b[0m\u001b[0mset\u001b[0m\u001b[0;34m(\u001b[0m\u001b[0mls\u001b[0m\u001b[0;34m)\u001b[0m\u001b[0;34m)\u001b[0m\u001b[0;34m\u001b[0m\u001b[0;34m\u001b[0m\u001b[0m\n\u001b[0m",
      "\u001b[0;31mTypeError\u001b[0m: unhashable type: 'list'"
     ]
    }
   ],
   "source": [
    "list(set(ls))"
   ]
  },
  {
   "cell_type": "markdown",
   "metadata": {},
   "source": [
    "Compare with the following examples:"
   ]
  },
  {
   "cell_type": "code",
   "execution_count": 18,
   "metadata": {},
   "outputs": [
    {
     "data": {
      "text/plain": [
       "['a', 'b', 'c', 'd']"
      ]
     },
     "execution_count": 18,
     "metadata": {},
     "output_type": "execute_result"
    }
   ],
   "source": [
    "ls = [\"a\", \"a\", \"b\", \"c\", \"c\", \"d\"]\n",
    "list(dict.fromkeys(ls))"
   ]
  },
  {
   "cell_type": "code",
   "execution_count": 19,
   "metadata": {},
   "outputs": [
    {
     "data": {
      "text/plain": [
       "['a', 'b', 'd', 'c']"
      ]
     },
     "execution_count": 19,
     "metadata": {},
     "output_type": "execute_result"
    }
   ],
   "source": [
    "ls = [\"a\", \"a\", \"b\", \"c\", \"c\", \"d\"]\n",
    "list(set(ls))"
   ]
  },
  {
   "cell_type": "markdown",
   "metadata": {},
   "source": [
    "## Exercise 5\n",
    "\n",
    "Consider the following list of student records:\n",
    "\n",
    "``students = [{'id': 1, 'success': True, 'name': 'Theo'},\n",
    "             {'id': 2, 'success': False, 'name': 'Alex'},\n",
    "             {'id': 3, 'success': True, 'name': 'Ralph'},\n",
    "             {'id': 4, 'success': True, 'name': 'Ralph'}\n",
    "             {'id': 5, 'success': False, 'name': 'Theo'}]``\n",
    "           \n",
    "We want to write a program to get the different values associated with \"name\" key.\n",
    "\n",
    "With the above list, the program should output ``['Theo', 'Alex', 'Ralph']``."
   ]
  },
  {
   "cell_type": "code",
   "execution_count": 20,
   "metadata": {},
   "outputs": [
    {
     "data": {
      "text/plain": [
       "['Theo', 'Alex', 'Ralph']"
      ]
     },
     "execution_count": 20,
     "metadata": {},
     "output_type": "execute_result"
    }
   ],
   "source": [
    "students = [{'id': 1, 'success': True, 'name': 'Theo'},\n",
    "           {'id': 2, 'success': False, 'name': 'Alex'},\n",
    "           {'id': 3, 'success': True, 'name': 'Ralph'},\n",
    "           {'id': 4, 'success': True, 'name': 'Ralph'},\n",
    "           {'id': 5, 'success': False, 'name': 'Theo'}]\n",
    "\n",
    "different_name_values = []\n",
    "\n",
    "for s in students :\n",
    "    v = s['name']\n",
    "    if(v not in different_name_values) :\n",
    "        different_name_values.append(v)\n",
    "different_name_values"
   ]
  },
  {
   "cell_type": "markdown",
   "metadata": {},
   "source": [
    "We recognize again the pattern that list comprehensions implement, then we can use them:"
   ]
  },
  {
   "cell_type": "code",
   "execution_count": 21,
   "metadata": {},
   "outputs": [
    {
     "data": {
      "text/plain": [
       "['Theo', 'Alex', 'Ralph', 'Ralph', 'Theo']"
      ]
     },
     "execution_count": 21,
     "metadata": {},
     "output_type": "execute_result"
    }
   ],
   "source": [
    "name_values = [s['name'] for s in students]\n",
    "name_values"
   ]
  },
  {
   "cell_type": "markdown",
   "metadata": {},
   "source": [
    "Finally, we can exploit what we learned from Exercise 4, using for instance the ``set()`` function."
   ]
  },
  {
   "cell_type": "code",
   "execution_count": 22,
   "metadata": {},
   "outputs": [
    {
     "data": {
      "text/plain": [
       "['Ralph', 'Theo', 'Alex']"
      ]
     },
     "execution_count": 22,
     "metadata": {},
     "output_type": "execute_result"
    }
   ],
   "source": [
    "list(set(name_values))"
   ]
  }
 ],
 "metadata": {
  "kernelspec": {
   "display_name": "Python 3",
   "language": "python",
   "name": "python3"
  },
  "language_info": {
   "codemirror_mode": {
    "name": "ipython",
    "version": 3
   },
   "file_extension": ".py",
   "mimetype": "text/x-python",
   "name": "python",
   "nbconvert_exporter": "python",
   "pygments_lexer": "ipython3",
   "version": "3.7.2"
  },
  "latex_envs": {
   "LaTeX_envs_menu_present": true,
   "autoclose": false,
   "autocomplete": true,
   "bibliofile": "biblio.bib",
   "cite_by": "apalike",
   "current_citInitial": 1,
   "eqLabelWithNumbers": true,
   "eqNumInitial": 1,
   "hotkeys": {
    "equation": "Ctrl-E",
    "itemize": "Ctrl-I"
   },
   "labels_anchors": false,
   "latex_user_defs": false,
   "report_style_numbering": false,
   "user_envs_cfg": false
  }
 },
 "nbformat": 4,
 "nbformat_minor": 2
}
