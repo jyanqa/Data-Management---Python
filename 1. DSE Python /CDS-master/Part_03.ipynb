{
 "cells": [
  {
   "cell_type": "markdown",
   "metadata": {},
   "source": [
    "# Flow control\n",
    "\n",
    "We now briefly look at the flow control statements for selection (**if ... then ... else**) and iteration (**for** and **while**).\n",
    "\n",
    "### Selection\n",
    "The syntax of **if ... then** is the following\n",
    "```\n",
    "if <condition 1>:\n",
    "    <code block 1>\n",
    "elif <condition 2>:\n",
    "    <code block 2>\n",
    "else:\n",
    "    <code block 3>\n",
    "```\n",
    "In Python, a **code block** must be preceded by `:` and indented by the same amount of spaces or tabs.\n",
    "\n",
    "In the selection statement, the interpreter executes only one code block according to the following rule:\n",
    "- `code block 1` if `condition 1` is true\n",
    "- otherwise `code block 2` if `condition 2` is true\n",
    "- otherwise `code block 3`\n",
    "\n",
    "**Note that:**\n",
    "- There can be zero or more than one `elif` clauses. If there is more than one, the code block that gets executed is the first one whose associated condition is true.\n",
    "- If the `else` clause is missing, then no code block might get executed. "
   ]
  },
  {
   "cell_type": "code",
   "execution_count": 1,
   "metadata": {},
   "outputs": [
    {
     "name": "stdout",
     "output_type": "stream",
     "text": [
      "Pippo\n",
      "Bye\n"
     ]
    }
   ],
   "source": [
    "x = 'pippo'\n",
    "if x == 'pippo':\n",
    "    print('Pippo')\n",
    "    print('Bye')\n",
    "else:\n",
    "    print('Not Pippo')"
   ]
  },
  {
   "cell_type": "code",
   "execution_count": 5,
   "metadata": {},
   "outputs": [
    {
     "name": "stdout",
     "output_type": "stream",
     "text": [
      "F\n"
     ]
    }
   ],
   "source": [
    "x = 50\n",
    "if x >= 90:\n",
    "    print('A')\n",
    "elif x >= 75:\n",
    "    print('B')\n",
    "elif x >= 60:\n",
    "    print('C')\n",
    "else:\n",
    "    print('F')"
   ]
  },
  {
   "cell_type": "markdown",
   "metadata": {},
   "source": [
    "### Ternary expressions\n",
    "A *ternary expression* allows to combine in a single expression an *if-else* block that produces a single value.\n",
    "```\n",
    "if <condition>:\n",
    "    value = <expression 1>\n",
    "else:\n",
    "    value = <expression 2>\n",
    "```\n",
    "can be equivalently written as\n",
    "```\n",
    "value = <expression 1> if <condition> else <expression 2>\n",
    "```\n",
    "Here is a simple example"
   ]
  },
  {
   "cell_type": "code",
   "execution_count": 3,
   "metadata": {},
   "outputs": [
    {
     "data": {
      "text/plain": [
       "'negative'"
      ]
     },
     "execution_count": 3,
     "metadata": {},
     "output_type": "execute_result"
    }
   ],
   "source": [
    "x = -5\n",
    "s = 'nonnegative' if x >= 0 else 'negative'\n",
    "s"
   ]
  },
  {
   "cell_type": "markdown",
   "metadata": {},
   "source": [
    "### For loops\n",
    "The syntax of the **for** statement is the following:\n",
    "```\n",
    "for <variable> in <sequence>:\n",
    "    <code block>\n",
    "```\n",
    "`sequence` can be a list, a tuple, or any *iterable* collection. The interpreter iterates over the elements of the sequence. At each iteration, the code block is executed with `variable` assigned to the current element of the sequence.\n",
    "\n",
    "Here is an example using the built-in constant `None`."
   ]
  },
  {
   "cell_type": "code",
   "execution_count": 6,
   "metadata": {},
   "outputs": [
    {
     "name": "stdout",
     "output_type": "stream",
     "text": [
      "12\n"
     ]
    }
   ],
   "source": [
    "x = [1, 2, None, 4, None, 5]\n",
    "count = 0\n",
    "for v in x:\n",
    "    if v != None:\n",
    "        count += v # count = count + v\n",
    "print(count)"
   ]
  },
  {
   "cell_type": "markdown",
   "metadata": {},
   "source": [
    "### While loops\n",
    "The **while** statement has the following syntax:\n",
    "```\n",
    "while <condition>:\n",
    "    <code block>\n",
    "```\n",
    "The interpreter cycles over the two following operations:\n",
    "1. Check `condition`\n",
    "2. If `condition` is true, then execute the code block\n",
    "\n",
    "Typically, `condition` contains variables, and the instructions in the code block modify these variables. "
   ]
  },
  {
   "cell_type": "code",
   "execution_count": 7,
   "metadata": {},
   "outputs": [
    {
     "name": "stdout",
     "output_type": "stream",
     "text": [
      "1 1 2 3 5 8 13 21 34 55 "
     ]
    }
   ],
   "source": [
    "# Print the first 10 values of the Fibonacci sequence\n",
    "a, b, n = 0, 1, 10\n",
    "print(b, end=\" \") # print the first term\n",
    "while (n >= 2):\n",
    "    f = a + b # compute next element of Fibonacci sequence\n",
    "    print(f, end=\" \") # end is a string appended after the last value (default newline)\n",
    "    a, b = b, f\n",
    "    n -= 1"
   ]
  },
  {
   "cell_type": "markdown",
   "metadata": {},
   "source": [
    "## Ranges\n",
    "The `range` type represents an **immutable sequence of numbers** and is commonly used for looping a specific number of times in for loops."
   ]
  },
  {
   "cell_type": "code",
   "execution_count": 6,
   "metadata": {},
   "outputs": [
    {
     "data": {
      "text/plain": [
       "range"
      ]
     },
     "execution_count": 6,
     "metadata": {},
     "output_type": "execute_result"
    }
   ],
   "source": [
    "r = range(10)\n",
    "type(r)"
   ]
  },
  {
   "cell_type": "code",
   "execution_count": 7,
   "metadata": {},
   "outputs": [
    {
     "data": {
      "text/plain": [
       "[0, 1, 2, 3, 4, 5, 6, 7, 8, 9]"
      ]
     },
     "execution_count": 7,
     "metadata": {},
     "output_type": "execute_result"
    }
   ],
   "source": [
    "list(r)"
   ]
  },
  {
   "cell_type": "code",
   "execution_count": 8,
   "metadata": {},
   "outputs": [
    {
     "name": "stdout",
     "output_type": "stream",
     "text": [
      "1 9 25 49 81 "
     ]
    }
   ],
   "source": [
    "for x in range(10):\n",
    "    if x % 2 != 0:\n",
    "        print(x**2, end=' ')"
   ]
  },
  {
   "cell_type": "markdown",
   "metadata": {},
   "source": [
    "If we specify `start` and `stop` values, then the range object contains all integers from `start` to `stop-1`."
   ]
  },
  {
   "cell_type": "code",
   "execution_count": 34,
   "metadata": {},
   "outputs": [
    {
     "data": {
      "text/plain": [
       "[3, 4, 5, 6, 7, 8, 9, 10]"
      ]
     },
     "execution_count": 34,
     "metadata": {},
     "output_type": "execute_result"
    }
   ],
   "source": [
    "list(range(3, 11)) #range (min, max)"
   ]
  },
  {
   "cell_type": "markdown",
   "metadata": {},
   "source": [
    "If we specify a `step` values, then the range contains integers of the form `r[i] = start + step*i` and satisfying the condition `r[i] < stop`."
   ]
  },
  {
   "cell_type": "code",
   "execution_count": 10,
   "metadata": {},
   "outputs": [
    {
     "data": {
      "text/plain": [
       "[0, 3, 6, 9]"
      ]
     },
     "execution_count": 10,
     "metadata": {},
     "output_type": "execute_result"
    }
   ],
   "source": [
    "list(range(0, 10, 3)) #range(min, max, step)"
   ]
  },
  {
   "cell_type": "markdown",
   "metadata": {},
   "source": [
    "`range(0)` and `range(1,0)` both correspond to the empty list `[]`."
   ]
  },
  {
   "cell_type": "code",
   "execution_count": 11,
   "metadata": {},
   "outputs": [
    {
     "data": {
      "text/plain": [
       "[]"
      ]
     },
     "execution_count": 11,
     "metadata": {},
     "output_type": "execute_result"
    }
   ],
   "source": [
    "list(range(0))"
   ]
  },
  {
   "cell_type": "code",
   "execution_count": 38,
   "metadata": {},
   "outputs": [
    {
     "data": {
      "text/plain": [
       "[]"
      ]
     },
     "execution_count": 38,
     "metadata": {},
     "output_type": "execute_result"
    }
   ],
   "source": [
    "list(range(1,0))"
   ]
  },
  {
   "cell_type": "markdown",
   "metadata": {},
   "source": [
    "## Break and continue statements\n",
    "The `break` statement breaks out of the innermost enclosing `for` or `while` loop.\n",
    "\n",
    "Loop statements may have an `else` clause; it is executed when the loop terminates, but not when the loop is terminated by a `break` statement."
   ]
  },
  {
   "cell_type": "code",
   "execution_count": 27,
   "metadata": {
    "scrolled": false
   },
   "outputs": [
    {
     "name": "stdout",
     "output_type": "stream",
     "text": [
      "2 is a prime number\n",
      "3 is a prime number\n",
      "4 equals 2 * 2\n",
      "5 is a prime number\n",
      "6 equals 2 * 3\n",
      "7 is a prime number\n",
      "8 equals 2 * 4\n",
      "9 equals 3 * 3\n"
     ]
    }
   ],
   "source": [
    "for n in range(2, 10): # n is the current candidate for prime\n",
    "    for x in range(2, n): # checking whether n is prime\n",
    "        if n % x == 0:\n",
    "            print(n, 'equals', x, '*', n//x)\n",
    "            break\n",
    "    else:\n",
    "        print(n, 'is a prime number') #result is the number of n, 8 lines"
   ]
  },
  {
   "cell_type": "code",
   "execution_count": 39,
   "metadata": {},
   "outputs": [
    {
     "name": "stdout",
     "output_type": "stream",
     "text": [
      "3 is a prime number\n",
      "4 equals 2 * 2\n",
      "5 is a prime number\n",
      "5 is a prime number\n",
      "5 is a prime number\n",
      "6 equals 2 * 3\n",
      "7 is a prime number\n",
      "7 is a prime number\n",
      "7 is a prime number\n",
      "7 is a prime number\n",
      "7 is a prime number\n",
      "8 equals 2 * 4\n",
      "9 is a prime number\n",
      "9 equals 3 * 3\n"
     ]
    }
   ],
   "source": [
    "for n in range(2, 10): # n is the current candidate for prime\n",
    "    for x in range(2, n): # checking whether n is prime\n",
    "        if n % x == 0:\n",
    "            print(n, 'equals', x, '*', n//x)\n",
    "            break\n",
    "        else:\n",
    "            print(n, 'is a prime number') #result is more complicated"
   ]
  },
  {
   "cell_type": "markdown",
   "metadata": {},
   "source": [
    "The `continue` statement causes the loop to continue with the next iteration."
   ]
  },
  {
   "cell_type": "code",
   "execution_count": 44,
   "metadata": {},
   "outputs": [
    {
     "name": "stdout",
     "output_type": "stream",
     "text": [
      "20\n"
     ]
    }
   ],
   "source": [
    "x = [3, 2, 6, 8, 1 ,5,4, 9, 0, 5, 7]\n",
    "sum = 0\n",
    "for v in x: # go over the list\n",
    "    if v == 0: # stop when a zero is encountered\n",
    "        break\n",
    "    elif v % 2 == 1: # skip odd elements\n",
    "        continue\n",
    "    sum += v # sum even elements\n",
    "print(sum)"
   ]
  },
  {
   "cell_type": "markdown",
   "metadata": {},
   "source": [
    "# List comprehensions\n",
    "\n",
    "Comprehensions provide a compact way to **filter elements from a sequence**. In case of lists, they allow to write the following for loop\n",
    "```\n",
    "result = []\n",
    "for <variable> in <sequence>:\n",
    "    if <condition>:\n",
    "        result.append(<expression>)\n",
    "```\n",
    "in the following equivalent form\n",
    "```\n",
    "[<expression> for <variable> in <sequence> if <condition>]\n",
    "```\n",
    "Here is a simple example."
   ]
  },
  {
   "cell_type": "code",
   "execution_count": 45,
   "metadata": {},
   "outputs": [
    {
     "data": {
      "text/plain": [
       "['BAR', 'BAZ', 'B', 'BA']"
      ]
     },
     "execution_count": 45,
     "metadata": {},
     "output_type": "execute_result"
    }
   ],
   "source": [
    "strings = ['foo', 'bar', 'baz', 'f', 'fo', 'b', 'ba']\n",
    "[x.upper() for x in strings if x[0] == 'b']"
   ]
  },
  {
   "cell_type": "markdown",
   "metadata": {},
   "source": [
    "The expression part in a list comprehension can be complex. In the following example, the expression builds a tuple of two elements."
   ]
  },
  {
   "cell_type": "code",
   "execution_count": 16,
   "metadata": {
    "scrolled": true
   },
   "outputs": [
    {
     "data": {
      "text/plain": [
       "[(0, 0), (1, 1), (2, 4), (3, 9), (4, 16), (5, 25)]"
      ]
     },
     "execution_count": 16,
     "metadata": {},
     "output_type": "execute_result"
    }
   ],
   "source": [
    "[(x, x**2) for x in range(6)]"
   ]
  },
  {
   "cell_type": "markdown",
   "metadata": {},
   "source": [
    "List comprehensions can be nested. Here is an example where we extract the integers from a list of tuples of integers (an operation called *flattening*)."
   ]
  },
  {
   "cell_type": "code",
   "execution_count": 17,
   "metadata": {},
   "outputs": [
    {
     "data": {
      "text/plain": [
       "[1, 2, 3, 4, 5, 6]"
      ]
     },
     "execution_count": 17,
     "metadata": {},
     "output_type": "execute_result"
    }
   ],
   "source": [
    "x = [(1, 2, 3), (4, 5, 6)]\n",
    "[v for t in x for v in t] #for t in x then for v in t, print result.append(v)"
   ]
  },
  {
   "cell_type": "code",
   "execution_count": 18,
   "metadata": {},
   "outputs": [
    {
     "data": {
      "text/plain": [
       "[1, 2, 3, 4, 5, 6]"
      ]
     },
     "execution_count": 18,
     "metadata": {},
     "output_type": "execute_result"
    }
   ],
   "source": [
    "x = [(1, 2, 3), (4, 5, 6)]\n",
    "result = []\n",
    "for t in x:\n",
    "    for v in t:\n",
    "        result.append(v)\n",
    "result"
   ]
  },
  {
   "cell_type": "markdown",
   "metadata": {},
   "source": [
    "Here is another example where we square even numbers and set to 1 odd numbers.\n",
    "\n",
    "Note that the expression part is a ternary expression."
   ]
  },
  {
   "cell_type": "code",
   "execution_count": 19,
   "metadata": {},
   "outputs": [
    {
     "data": {
      "text/plain": [
       "[0, 1, 4, 1, 16, 1]"
      ]
     },
     "execution_count": 19,
     "metadata": {},
     "output_type": "execute_result"
    }
   ],
   "source": [
    "x = range(6)\n",
    "[v ** 2 if v % 2 == 0 else 1 for v in x]"
   ]
  },
  {
   "cell_type": "markdown",
   "metadata": {},
   "source": [
    "# Importing a module\n",
    "\n",
    "A module in python is a file with a `.py` extension containing code defining functions, constants, and types that are not available as built-in entities.\n",
    "\n",
    "The `import` statement is used to load a module. The imported functions, constants, and types are available **prefixed with the module name**."
   ]
  },
  {
   "cell_type": "code",
   "execution_count": 47,
   "metadata": {},
   "outputs": [
    {
     "data": {
      "text/plain": [
       "3.141592653589793"
      ]
     },
     "execution_count": 47,
     "metadata": {},
     "output_type": "execute_result"
    }
   ],
   "source": [
    "import math\n",
    "math.pi"
   ]
  },
  {
   "cell_type": "markdown",
   "metadata": {},
   "source": [
    "Instead of importing an entire module, we can import one or more functions, constants, or types.\n",
    "\n",
    "In this case the imported names are available without the module prefix."
   ]
  },
  {
   "cell_type": "code",
   "execution_count": 55,
   "metadata": {},
   "outputs": [
    {
     "data": {
      "text/plain": [
       "37.5"
      ]
     },
     "execution_count": 55,
     "metadata": {},
     "output_type": "execute_result"
    }
   ],
   "source": [
    "ages = [24, 17, 72, 36, 56, 20]\n",
    "from statistics import mean\n",
    "mean(ages)"
   ]
  },
  {
   "cell_type": "markdown",
   "metadata": {},
   "source": [
    "By using the keyword `as` we can change the name of the imported element or module."
   ]
  },
  {
   "cell_type": "code",
   "execution_count": 22,
   "metadata": {},
   "outputs": [
    {
     "data": {
      "text/plain": [
       "30.0"
      ]
     },
     "execution_count": 22,
     "metadata": {},
     "output_type": "execute_result"
    }
   ],
   "source": [
    "from statistics import median as med\n",
    "med(ages)"
   ]
  },
  {
   "cell_type": "code",
   "execution_count": 23,
   "metadata": {},
   "outputs": [
    {
     "data": {
      "text/plain": [
       "22.106560112328648"
      ]
     },
     "execution_count": 23,
     "metadata": {},
     "output_type": "execute_result"
    }
   ],
   "source": [
    "import statistics as stat\n",
    "stat.stdev(ages)"
   ]
  },
  {
   "cell_type": "markdown",
   "metadata": {},
   "source": [
    "We now see list comprehensions in action on data uploaded from a file. Before that, let's introduce the `with` statement for opening files. Its syntax is\n",
    "```\n",
    "with open(<filename>) as <variable>:\n",
    "    <code block>\n",
    "```\n",
    "`<variable>` is the *handle* for the file. We can treat it as a list and iterate over the file lines.\n",
    "\n",
    "\n",
    "The file is `Datasets/diabetes.csv`. We can take a look at it using the Unix shell command `cat` to print a file o screen. Shell commands can be invoked from Jupyter using `!`. So the complete command is `!cat Datasets/diabetes.csv`"
   ]
  },
  {
   "cell_type": "markdown",
   "metadata": {},
   "source": [
    "This is the *Pima Indian Diabetes Database*. The dataset was prepared with the purpose of training machine learning algorithms to predict whether or not a patient has diabetes based on a set of diagnostic measurements: Pregnancies, Glucose, BloodPressure, SkinThickness, Insulin, BMI, DiabetesPedigreeFunction, Age.\n",
    "\n",
    "We open the file for reading and assign the handle to `pima_file`. Then, we use a list comprehension to build a list whose elements are the lines in the file."
   ]
  },
  {
   "cell_type": "code",
   "execution_count": 56,
   "metadata": {
    "scrolled": false
   },
   "outputs": [
    {
     "data": {
      "text/plain": [
       "['Pregnancies,Glucose,BloodPressure,SkinThickness,Insulin,BMI,DiabetesPedigreeFunction,Age,Outcome\\n',\n",
       " '6,148,72,35,0,33.6,0.627,50,1\\n',\n",
       " '1,85,66,29,0,26.6,0.351,31,0\\n',\n",
       " '8,183,64,0,0,23.3,0.672,32,1\\n',\n",
       " '1,89,66,23,94,28.1,0.167,21,0\\n',\n",
       " '0,137,40,35,168,43.1,2.288,33,1\\n',\n",
       " '5,116,74,0,0,25.6,0.201,30,0\\n',\n",
       " '3,78,50,32,88,31,0.248,26,1\\n',\n",
       " '10,115,0,0,0,35.3,0.134,29,0\\n',\n",
       " '2,197,70,45,543,30.5,0.158,53,1\\n']"
      ]
     },
     "execution_count": 56,
     "metadata": {},
     "output_type": "execute_result"
    }
   ],
   "source": [
    "with open('Datasets/diabetes.csv') as pima_file:\n",
    "    lines = [x for x in pima_file]\n",
    "lines[:10]"
   ]
  },
  {
   "cell_type": "markdown",
   "metadata": {},
   "source": [
    "Note that each line is terminated by a newline `\\n` character.\n",
    "\n",
    "We can process csv files more efficiently using the csv module. This module provides the function `reader()` which returns an object of type `reader` containing all the lines in the file, without the newline character, and broken in substrings using a specified delimiter character (comma in our case). The reader object can then be converted into a list of lists using the type constructor `list()`."
   ]
  },
  {
   "cell_type": "code",
   "execution_count": 59,
   "metadata": {},
   "outputs": [],
   "source": [
    "import csv\n",
    "with open('Datasets/diabetes.csv') as pima_file:\n",
    "    pima_reader = csv.reader(pima_file, delimiter=',')\n",
    "    lines = list(pima_reader)\n",
    "del lines[0]"
   ]
  },
  {
   "cell_type": "markdown",
   "metadata": {},
   "source": [
    "Note that we got rid of the first line of the file with a `del` command."
   ]
  },
  {
   "cell_type": "code",
   "execution_count": 64,
   "metadata": {},
   "outputs": [
    {
     "data": {
      "text/plain": [
       "[['6', '148', '72', '35', '0', '33.6', '0.627', '50', '1'],\n",
       " ['1', '85', '66', '29', '0', '26.6', '0.351', '31', '0'],\n",
       " ['8', '183', '64', '0', '0', '23.3', '0.672', '32', '1'],\n",
       " ['1', '89', '66', '23', '94', '28.1', '0.167', '21', '0'],\n",
       " ['0', '137', '40', '35', '168', '43.1', '2.288', '33', '1'],\n",
       " ['5', '116', '74', '0', '0', '25.6', '0.201', '30', '0'],\n",
       " ['3', '78', '50', '32', '88', '31', '0.248', '26', '1'],\n",
       " ['10', '115', '0', '0', '0', '35.3', '0.134', '29', '0'],\n",
       " ['2', '197', '70', '45', '543', '30.5', '0.158', '53', '1'],\n",
       " ['8', '125', '96', '0', '0', '0', '0.232', '54', '1']]"
      ]
     },
     "execution_count": 64,
     "metadata": {},
     "output_type": "execute_result"
    }
   ],
   "source": [
    "lines[:10]"
   ]
  },
  {
   "cell_type": "markdown",
   "metadata": {},
   "source": [
    "We can use another list comprehension to extract the element in position 7 in each line (the age column) and then apply the type constructor `float()` to turn it into a float."
   ]
  },
  {
   "cell_type": "code",
   "execution_count": 65,
   "metadata": {},
   "outputs": [
    {
     "data": {
      "text/plain": [
       "[50.0, 31.0, 32.0, 21.0, 33.0, 30.0, 26.0, 29.0, 53.0, 54.0]"
      ]
     },
     "execution_count": 65,
     "metadata": {},
     "output_type": "execute_result"
    }
   ],
   "source": [
    "ages = [float(v[7]) for v in lines]\n",
    "ages[:10]"
   ]
  },
  {
   "cell_type": "markdown",
   "metadata": {},
   "source": [
    "We want to plot a histogram of these ages. We first create the histogram bins using the `range()` type constructor."
   ]
  },
  {
   "cell_type": "code",
   "execution_count": 66,
   "metadata": {},
   "outputs": [
    {
     "data": {
      "text/plain": [
       "[20, 25, 30, 35, 40, 45, 50, 55, 60, 65, 70, 75]"
      ]
     },
     "execution_count": 66,
     "metadata": {},
     "output_type": "execute_result"
    }
   ],
   "source": [
    "age_bins = list(range(20, 80, 5))\n",
    "age_bins"
   ]
  },
  {
   "cell_type": "markdown",
   "metadata": {},
   "source": [
    "In order to plot the histogram, we load the interface `pyplot` of the module `matplotlib` and assign it the conventional name `plt`. Then we construct the histogram with the function `hist()` and print it with the function `show()`.\n",
    "\n",
    "The *magic command* `%matplotlib notebook` provides nice display capabilities for matplotlib in Jupyter notebooks\n",
    "\n",
    "Magic commands are executed by the kernel and allow to perform various tasks."
   ]
  },
  {
   "cell_type": "code",
   "execution_count": 69,
   "metadata": {},
   "outputs": [
    {
     "data": {
      "text/plain": [
       "[50.0, 31.0, 32.0, 21.0, 33.0, 30.0, 26.0, 29.0, 53.0, 54.0]"
      ]
     },
     "execution_count": 69,
     "metadata": {},
     "output_type": "execute_result"
    }
   ],
   "source": [
    "ages[:10]"
   ]
  },
  {
   "cell_type": "code",
   "execution_count": 29,
   "metadata": {},
   "outputs": [
    {
     "data": {
      "application/javascript": [
       "/* Put everything inside the global mpl namespace */\n",
       "window.mpl = {};\n",
       "\n",
       "\n",
       "mpl.get_websocket_type = function() {\n",
       "    if (typeof(WebSocket) !== 'undefined') {\n",
       "        return WebSocket;\n",
       "    } else if (typeof(MozWebSocket) !== 'undefined') {\n",
       "        return MozWebSocket;\n",
       "    } else {\n",
       "        alert('Your browser does not have WebSocket support.' +\n",
       "              'Please try Chrome, Safari or Firefox ≥ 6. ' +\n",
       "              'Firefox 4 and 5 are also supported but you ' +\n",
       "              'have to enable WebSockets in about:config.');\n",
       "    };\n",
       "}\n",
       "\n",
       "mpl.figure = function(figure_id, websocket, ondownload, parent_element) {\n",
       "    this.id = figure_id;\n",
       "\n",
       "    this.ws = websocket;\n",
       "\n",
       "    this.supports_binary = (this.ws.binaryType != undefined);\n",
       "\n",
       "    if (!this.supports_binary) {\n",
       "        var warnings = document.getElementById(\"mpl-warnings\");\n",
       "        if (warnings) {\n",
       "            warnings.style.display = 'block';\n",
       "            warnings.textContent = (\n",
       "                \"This browser does not support binary websocket messages. \" +\n",
       "                    \"Performance may be slow.\");\n",
       "        }\n",
       "    }\n",
       "\n",
       "    this.imageObj = new Image();\n",
       "\n",
       "    this.context = undefined;\n",
       "    this.message = undefined;\n",
       "    this.canvas = undefined;\n",
       "    this.rubberband_canvas = undefined;\n",
       "    this.rubberband_context = undefined;\n",
       "    this.format_dropdown = undefined;\n",
       "\n",
       "    this.image_mode = 'full';\n",
       "\n",
       "    this.root = $('<div/>');\n",
       "    this._root_extra_style(this.root)\n",
       "    this.root.attr('style', 'display: inline-block');\n",
       "\n",
       "    $(parent_element).append(this.root);\n",
       "\n",
       "    this._init_header(this);\n",
       "    this._init_canvas(this);\n",
       "    this._init_toolbar(this);\n",
       "\n",
       "    var fig = this;\n",
       "\n",
       "    this.waiting = false;\n",
       "\n",
       "    this.ws.onopen =  function () {\n",
       "            fig.send_message(\"supports_binary\", {value: fig.supports_binary});\n",
       "            fig.send_message(\"send_image_mode\", {});\n",
       "            if (mpl.ratio != 1) {\n",
       "                fig.send_message(\"set_dpi_ratio\", {'dpi_ratio': mpl.ratio});\n",
       "            }\n",
       "            fig.send_message(\"refresh\", {});\n",
       "        }\n",
       "\n",
       "    this.imageObj.onload = function() {\n",
       "            if (fig.image_mode == 'full') {\n",
       "                // Full images could contain transparency (where diff images\n",
       "                // almost always do), so we need to clear the canvas so that\n",
       "                // there is no ghosting.\n",
       "                fig.context.clearRect(0, 0, fig.canvas.width, fig.canvas.height);\n",
       "            }\n",
       "            fig.context.drawImage(fig.imageObj, 0, 0);\n",
       "        };\n",
       "\n",
       "    this.imageObj.onunload = function() {\n",
       "        fig.ws.close();\n",
       "    }\n",
       "\n",
       "    this.ws.onmessage = this._make_on_message_function(this);\n",
       "\n",
       "    this.ondownload = ondownload;\n",
       "}\n",
       "\n",
       "mpl.figure.prototype._init_header = function() {\n",
       "    var titlebar = $(\n",
       "        '<div class=\"ui-dialog-titlebar ui-widget-header ui-corner-all ' +\n",
       "        'ui-helper-clearfix\"/>');\n",
       "    var titletext = $(\n",
       "        '<div class=\"ui-dialog-title\" style=\"width: 100%; ' +\n",
       "        'text-align: center; padding: 3px;\"/>');\n",
       "    titlebar.append(titletext)\n",
       "    this.root.append(titlebar);\n",
       "    this.header = titletext[0];\n",
       "}\n",
       "\n",
       "\n",
       "\n",
       "mpl.figure.prototype._canvas_extra_style = function(canvas_div) {\n",
       "\n",
       "}\n",
       "\n",
       "\n",
       "mpl.figure.prototype._root_extra_style = function(canvas_div) {\n",
       "\n",
       "}\n",
       "\n",
       "mpl.figure.prototype._init_canvas = function() {\n",
       "    var fig = this;\n",
       "\n",
       "    var canvas_div = $('<div/>');\n",
       "\n",
       "    canvas_div.attr('style', 'position: relative; clear: both; outline: 0');\n",
       "\n",
       "    function canvas_keyboard_event(event) {\n",
       "        return fig.key_event(event, event['data']);\n",
       "    }\n",
       "\n",
       "    canvas_div.keydown('key_press', canvas_keyboard_event);\n",
       "    canvas_div.keyup('key_release', canvas_keyboard_event);\n",
       "    this.canvas_div = canvas_div\n",
       "    this._canvas_extra_style(canvas_div)\n",
       "    this.root.append(canvas_div);\n",
       "\n",
       "    var canvas = $('<canvas/>');\n",
       "    canvas.addClass('mpl-canvas');\n",
       "    canvas.attr('style', \"left: 0; top: 0; z-index: 0; outline: 0\")\n",
       "\n",
       "    this.canvas = canvas[0];\n",
       "    this.context = canvas[0].getContext(\"2d\");\n",
       "\n",
       "    var backingStore = this.context.backingStorePixelRatio ||\n",
       "\tthis.context.webkitBackingStorePixelRatio ||\n",
       "\tthis.context.mozBackingStorePixelRatio ||\n",
       "\tthis.context.msBackingStorePixelRatio ||\n",
       "\tthis.context.oBackingStorePixelRatio ||\n",
       "\tthis.context.backingStorePixelRatio || 1;\n",
       "\n",
       "    mpl.ratio = (window.devicePixelRatio || 1) / backingStore;\n",
       "\n",
       "    var rubberband = $('<canvas/>');\n",
       "    rubberband.attr('style', \"position: absolute; left: 0; top: 0; z-index: 1;\")\n",
       "\n",
       "    var pass_mouse_events = true;\n",
       "\n",
       "    canvas_div.resizable({\n",
       "        start: function(event, ui) {\n",
       "            pass_mouse_events = false;\n",
       "        },\n",
       "        resize: function(event, ui) {\n",
       "            fig.request_resize(ui.size.width, ui.size.height);\n",
       "        },\n",
       "        stop: function(event, ui) {\n",
       "            pass_mouse_events = true;\n",
       "            fig.request_resize(ui.size.width, ui.size.height);\n",
       "        },\n",
       "    });\n",
       "\n",
       "    function mouse_event_fn(event) {\n",
       "        if (pass_mouse_events)\n",
       "            return fig.mouse_event(event, event['data']);\n",
       "    }\n",
       "\n",
       "    rubberband.mousedown('button_press', mouse_event_fn);\n",
       "    rubberband.mouseup('button_release', mouse_event_fn);\n",
       "    // Throttle sequential mouse events to 1 every 20ms.\n",
       "    rubberband.mousemove('motion_notify', mouse_event_fn);\n",
       "\n",
       "    rubberband.mouseenter('figure_enter', mouse_event_fn);\n",
       "    rubberband.mouseleave('figure_leave', mouse_event_fn);\n",
       "\n",
       "    canvas_div.on(\"wheel\", function (event) {\n",
       "        event = event.originalEvent;\n",
       "        event['data'] = 'scroll'\n",
       "        if (event.deltaY < 0) {\n",
       "            event.step = 1;\n",
       "        } else {\n",
       "            event.step = -1;\n",
       "        }\n",
       "        mouse_event_fn(event);\n",
       "    });\n",
       "\n",
       "    canvas_div.append(canvas);\n",
       "    canvas_div.append(rubberband);\n",
       "\n",
       "    this.rubberband = rubberband;\n",
       "    this.rubberband_canvas = rubberband[0];\n",
       "    this.rubberband_context = rubberband[0].getContext(\"2d\");\n",
       "    this.rubberband_context.strokeStyle = \"#000000\";\n",
       "\n",
       "    this._resize_canvas = function(width, height) {\n",
       "        // Keep the size of the canvas, canvas container, and rubber band\n",
       "        // canvas in synch.\n",
       "        canvas_div.css('width', width)\n",
       "        canvas_div.css('height', height)\n",
       "\n",
       "        canvas.attr('width', width * mpl.ratio);\n",
       "        canvas.attr('height', height * mpl.ratio);\n",
       "        canvas.attr('style', 'width: ' + width + 'px; height: ' + height + 'px;');\n",
       "\n",
       "        rubberband.attr('width', width);\n",
       "        rubberband.attr('height', height);\n",
       "    }\n",
       "\n",
       "    // Set the figure to an initial 600x600px, this will subsequently be updated\n",
       "    // upon first draw.\n",
       "    this._resize_canvas(600, 600);\n",
       "\n",
       "    // Disable right mouse context menu.\n",
       "    $(this.rubberband_canvas).bind(\"contextmenu\",function(e){\n",
       "        return false;\n",
       "    });\n",
       "\n",
       "    function set_focus () {\n",
       "        canvas.focus();\n",
       "        canvas_div.focus();\n",
       "    }\n",
       "\n",
       "    window.setTimeout(set_focus, 100);\n",
       "}\n",
       "\n",
       "mpl.figure.prototype._init_toolbar = function() {\n",
       "    var fig = this;\n",
       "\n",
       "    var nav_element = $('<div/>')\n",
       "    nav_element.attr('style', 'width: 100%');\n",
       "    this.root.append(nav_element);\n",
       "\n",
       "    // Define a callback function for later on.\n",
       "    function toolbar_event(event) {\n",
       "        return fig.toolbar_button_onclick(event['data']);\n",
       "    }\n",
       "    function toolbar_mouse_event(event) {\n",
       "        return fig.toolbar_button_onmouseover(event['data']);\n",
       "    }\n",
       "\n",
       "    for(var toolbar_ind in mpl.toolbar_items) {\n",
       "        var name = mpl.toolbar_items[toolbar_ind][0];\n",
       "        var tooltip = mpl.toolbar_items[toolbar_ind][1];\n",
       "        var image = mpl.toolbar_items[toolbar_ind][2];\n",
       "        var method_name = mpl.toolbar_items[toolbar_ind][3];\n",
       "\n",
       "        if (!name) {\n",
       "            // put a spacer in here.\n",
       "            continue;\n",
       "        }\n",
       "        var button = $('<button/>');\n",
       "        button.addClass('ui-button ui-widget ui-state-default ui-corner-all ' +\n",
       "                        'ui-button-icon-only');\n",
       "        button.attr('role', 'button');\n",
       "        button.attr('aria-disabled', 'false');\n",
       "        button.click(method_name, toolbar_event);\n",
       "        button.mouseover(tooltip, toolbar_mouse_event);\n",
       "\n",
       "        var icon_img = $('<span/>');\n",
       "        icon_img.addClass('ui-button-icon-primary ui-icon');\n",
       "        icon_img.addClass(image);\n",
       "        icon_img.addClass('ui-corner-all');\n",
       "\n",
       "        var tooltip_span = $('<span/>');\n",
       "        tooltip_span.addClass('ui-button-text');\n",
       "        tooltip_span.html(tooltip);\n",
       "\n",
       "        button.append(icon_img);\n",
       "        button.append(tooltip_span);\n",
       "\n",
       "        nav_element.append(button);\n",
       "    }\n",
       "\n",
       "    var fmt_picker_span = $('<span/>');\n",
       "\n",
       "    var fmt_picker = $('<select/>');\n",
       "    fmt_picker.addClass('mpl-toolbar-option ui-widget ui-widget-content');\n",
       "    fmt_picker_span.append(fmt_picker);\n",
       "    nav_element.append(fmt_picker_span);\n",
       "    this.format_dropdown = fmt_picker[0];\n",
       "\n",
       "    for (var ind in mpl.extensions) {\n",
       "        var fmt = mpl.extensions[ind];\n",
       "        var option = $(\n",
       "            '<option/>', {selected: fmt === mpl.default_extension}).html(fmt);\n",
       "        fmt_picker.append(option)\n",
       "    }\n",
       "\n",
       "    // Add hover states to the ui-buttons\n",
       "    $( \".ui-button\" ).hover(\n",
       "        function() { $(this).addClass(\"ui-state-hover\");},\n",
       "        function() { $(this).removeClass(\"ui-state-hover\");}\n",
       "    );\n",
       "\n",
       "    var status_bar = $('<span class=\"mpl-message\"/>');\n",
       "    nav_element.append(status_bar);\n",
       "    this.message = status_bar[0];\n",
       "}\n",
       "\n",
       "mpl.figure.prototype.request_resize = function(x_pixels, y_pixels) {\n",
       "    // Request matplotlib to resize the figure. Matplotlib will then trigger a resize in the client,\n",
       "    // which will in turn request a refresh of the image.\n",
       "    this.send_message('resize', {'width': x_pixels, 'height': y_pixels});\n",
       "}\n",
       "\n",
       "mpl.figure.prototype.send_message = function(type, properties) {\n",
       "    properties['type'] = type;\n",
       "    properties['figure_id'] = this.id;\n",
       "    this.ws.send(JSON.stringify(properties));\n",
       "}\n",
       "\n",
       "mpl.figure.prototype.send_draw_message = function() {\n",
       "    if (!this.waiting) {\n",
       "        this.waiting = true;\n",
       "        this.ws.send(JSON.stringify({type: \"draw\", figure_id: this.id}));\n",
       "    }\n",
       "}\n",
       "\n",
       "\n",
       "mpl.figure.prototype.handle_save = function(fig, msg) {\n",
       "    var format_dropdown = fig.format_dropdown;\n",
       "    var format = format_dropdown.options[format_dropdown.selectedIndex].value;\n",
       "    fig.ondownload(fig, format);\n",
       "}\n",
       "\n",
       "\n",
       "mpl.figure.prototype.handle_resize = function(fig, msg) {\n",
       "    var size = msg['size'];\n",
       "    if (size[0] != fig.canvas.width || size[1] != fig.canvas.height) {\n",
       "        fig._resize_canvas(size[0], size[1]);\n",
       "        fig.send_message(\"refresh\", {});\n",
       "    };\n",
       "}\n",
       "\n",
       "mpl.figure.prototype.handle_rubberband = function(fig, msg) {\n",
       "    var x0 = msg['x0'] / mpl.ratio;\n",
       "    var y0 = (fig.canvas.height - msg['y0']) / mpl.ratio;\n",
       "    var x1 = msg['x1'] / mpl.ratio;\n",
       "    var y1 = (fig.canvas.height - msg['y1']) / mpl.ratio;\n",
       "    x0 = Math.floor(x0) + 0.5;\n",
       "    y0 = Math.floor(y0) + 0.5;\n",
       "    x1 = Math.floor(x1) + 0.5;\n",
       "    y1 = Math.floor(y1) + 0.5;\n",
       "    var min_x = Math.min(x0, x1);\n",
       "    var min_y = Math.min(y0, y1);\n",
       "    var width = Math.abs(x1 - x0);\n",
       "    var height = Math.abs(y1 - y0);\n",
       "\n",
       "    fig.rubberband_context.clearRect(\n",
       "        0, 0, fig.canvas.width, fig.canvas.height);\n",
       "\n",
       "    fig.rubberband_context.strokeRect(min_x, min_y, width, height);\n",
       "}\n",
       "\n",
       "mpl.figure.prototype.handle_figure_label = function(fig, msg) {\n",
       "    // Updates the figure title.\n",
       "    fig.header.textContent = msg['label'];\n",
       "}\n",
       "\n",
       "mpl.figure.prototype.handle_cursor = function(fig, msg) {\n",
       "    var cursor = msg['cursor'];\n",
       "    switch(cursor)\n",
       "    {\n",
       "    case 0:\n",
       "        cursor = 'pointer';\n",
       "        break;\n",
       "    case 1:\n",
       "        cursor = 'default';\n",
       "        break;\n",
       "    case 2:\n",
       "        cursor = 'crosshair';\n",
       "        break;\n",
       "    case 3:\n",
       "        cursor = 'move';\n",
       "        break;\n",
       "    }\n",
       "    fig.rubberband_canvas.style.cursor = cursor;\n",
       "}\n",
       "\n",
       "mpl.figure.prototype.handle_message = function(fig, msg) {\n",
       "    fig.message.textContent = msg['message'];\n",
       "}\n",
       "\n",
       "mpl.figure.prototype.handle_draw = function(fig, msg) {\n",
       "    // Request the server to send over a new figure.\n",
       "    fig.send_draw_message();\n",
       "}\n",
       "\n",
       "mpl.figure.prototype.handle_image_mode = function(fig, msg) {\n",
       "    fig.image_mode = msg['mode'];\n",
       "}\n",
       "\n",
       "mpl.figure.prototype.updated_canvas_event = function() {\n",
       "    // Called whenever the canvas gets updated.\n",
       "    this.send_message(\"ack\", {});\n",
       "}\n",
       "\n",
       "// A function to construct a web socket function for onmessage handling.\n",
       "// Called in the figure constructor.\n",
       "mpl.figure.prototype._make_on_message_function = function(fig) {\n",
       "    return function socket_on_message(evt) {\n",
       "        if (evt.data instanceof Blob) {\n",
       "            /* FIXME: We get \"Resource interpreted as Image but\n",
       "             * transferred with MIME type text/plain:\" errors on\n",
       "             * Chrome.  But how to set the MIME type?  It doesn't seem\n",
       "             * to be part of the websocket stream */\n",
       "            evt.data.type = \"image/png\";\n",
       "\n",
       "            /* Free the memory for the previous frames */\n",
       "            if (fig.imageObj.src) {\n",
       "                (window.URL || window.webkitURL).revokeObjectURL(\n",
       "                    fig.imageObj.src);\n",
       "            }\n",
       "\n",
       "            fig.imageObj.src = (window.URL || window.webkitURL).createObjectURL(\n",
       "                evt.data);\n",
       "            fig.updated_canvas_event();\n",
       "            fig.waiting = false;\n",
       "            return;\n",
       "        }\n",
       "        else if (typeof evt.data === 'string' && evt.data.slice(0, 21) == \"data:image/png;base64\") {\n",
       "            fig.imageObj.src = evt.data;\n",
       "            fig.updated_canvas_event();\n",
       "            fig.waiting = false;\n",
       "            return;\n",
       "        }\n",
       "\n",
       "        var msg = JSON.parse(evt.data);\n",
       "        var msg_type = msg['type'];\n",
       "\n",
       "        // Call the  \"handle_{type}\" callback, which takes\n",
       "        // the figure and JSON message as its only arguments.\n",
       "        try {\n",
       "            var callback = fig[\"handle_\" + msg_type];\n",
       "        } catch (e) {\n",
       "            console.log(\"No handler for the '\" + msg_type + \"' message type: \", msg);\n",
       "            return;\n",
       "        }\n",
       "\n",
       "        if (callback) {\n",
       "            try {\n",
       "                // console.log(\"Handling '\" + msg_type + \"' message: \", msg);\n",
       "                callback(fig, msg);\n",
       "            } catch (e) {\n",
       "                console.log(\"Exception inside the 'handler_\" + msg_type + \"' callback:\", e, e.stack, msg);\n",
       "            }\n",
       "        }\n",
       "    };\n",
       "}\n",
       "\n",
       "// from http://stackoverflow.com/questions/1114465/getting-mouse-location-in-canvas\n",
       "mpl.findpos = function(e) {\n",
       "    //this section is from http://www.quirksmode.org/js/events_properties.html\n",
       "    var targ;\n",
       "    if (!e)\n",
       "        e = window.event;\n",
       "    if (e.target)\n",
       "        targ = e.target;\n",
       "    else if (e.srcElement)\n",
       "        targ = e.srcElement;\n",
       "    if (targ.nodeType == 3) // defeat Safari bug\n",
       "        targ = targ.parentNode;\n",
       "\n",
       "    // jQuery normalizes the pageX and pageY\n",
       "    // pageX,Y are the mouse positions relative to the document\n",
       "    // offset() returns the position of the element relative to the document\n",
       "    var x = e.pageX - $(targ).offset().left;\n",
       "    var y = e.pageY - $(targ).offset().top;\n",
       "\n",
       "    return {\"x\": x, \"y\": y};\n",
       "};\n",
       "\n",
       "/*\n",
       " * return a copy of an object with only non-object keys\n",
       " * we need this to avoid circular references\n",
       " * http://stackoverflow.com/a/24161582/3208463\n",
       " */\n",
       "function simpleKeys (original) {\n",
       "  return Object.keys(original).reduce(function (obj, key) {\n",
       "    if (typeof original[key] !== 'object')\n",
       "        obj[key] = original[key]\n",
       "    return obj;\n",
       "  }, {});\n",
       "}\n",
       "\n",
       "mpl.figure.prototype.mouse_event = function(event, name) {\n",
       "    var canvas_pos = mpl.findpos(event)\n",
       "\n",
       "    if (name === 'button_press')\n",
       "    {\n",
       "        this.canvas.focus();\n",
       "        this.canvas_div.focus();\n",
       "    }\n",
       "\n",
       "    var x = canvas_pos.x * mpl.ratio;\n",
       "    var y = canvas_pos.y * mpl.ratio;\n",
       "\n",
       "    this.send_message(name, {x: x, y: y, button: event.button,\n",
       "                             step: event.step,\n",
       "                             guiEvent: simpleKeys(event)});\n",
       "\n",
       "    /* This prevents the web browser from automatically changing to\n",
       "     * the text insertion cursor when the button is pressed.  We want\n",
       "     * to control all of the cursor setting manually through the\n",
       "     * 'cursor' event from matplotlib */\n",
       "    event.preventDefault();\n",
       "    return false;\n",
       "}\n",
       "\n",
       "mpl.figure.prototype._key_event_extra = function(event, name) {\n",
       "    // Handle any extra behaviour associated with a key event\n",
       "}\n",
       "\n",
       "mpl.figure.prototype.key_event = function(event, name) {\n",
       "\n",
       "    // Prevent repeat events\n",
       "    if (name == 'key_press')\n",
       "    {\n",
       "        if (event.which === this._key)\n",
       "            return;\n",
       "        else\n",
       "            this._key = event.which;\n",
       "    }\n",
       "    if (name == 'key_release')\n",
       "        this._key = null;\n",
       "\n",
       "    var value = '';\n",
       "    if (event.ctrlKey && event.which != 17)\n",
       "        value += \"ctrl+\";\n",
       "    if (event.altKey && event.which != 18)\n",
       "        value += \"alt+\";\n",
       "    if (event.shiftKey && event.which != 16)\n",
       "        value += \"shift+\";\n",
       "\n",
       "    value += 'k';\n",
       "    value += event.which.toString();\n",
       "\n",
       "    this._key_event_extra(event, name);\n",
       "\n",
       "    this.send_message(name, {key: value,\n",
       "                             guiEvent: simpleKeys(event)});\n",
       "    return false;\n",
       "}\n",
       "\n",
       "mpl.figure.prototype.toolbar_button_onclick = function(name) {\n",
       "    if (name == 'download') {\n",
       "        this.handle_save(this, null);\n",
       "    } else {\n",
       "        this.send_message(\"toolbar_button\", {name: name});\n",
       "    }\n",
       "};\n",
       "\n",
       "mpl.figure.prototype.toolbar_button_onmouseover = function(tooltip) {\n",
       "    this.message.textContent = tooltip;\n",
       "};\n",
       "mpl.toolbar_items = [[\"Home\", \"Reset original view\", \"fa fa-home icon-home\", \"home\"], [\"Back\", \"Back to  previous view\", \"fa fa-arrow-left icon-arrow-left\", \"back\"], [\"Forward\", \"Forward to next view\", \"fa fa-arrow-right icon-arrow-right\", \"forward\"], [\"\", \"\", \"\", \"\"], [\"Pan\", \"Pan axes with left mouse, zoom with right\", \"fa fa-arrows icon-move\", \"pan\"], [\"Zoom\", \"Zoom to rectangle\", \"fa fa-square-o icon-check-empty\", \"zoom\"], [\"\", \"\", \"\", \"\"], [\"Download\", \"Download plot\", \"fa fa-floppy-o icon-save\", \"download\"]];\n",
       "\n",
       "mpl.extensions = [\"eps\", \"jpeg\", \"pdf\", \"png\", \"ps\", \"raw\", \"svg\", \"tif\"];\n",
       "\n",
       "mpl.default_extension = \"png\";var comm_websocket_adapter = function(comm) {\n",
       "    // Create a \"websocket\"-like object which calls the given IPython comm\n",
       "    // object with the appropriate methods. Currently this is a non binary\n",
       "    // socket, so there is still some room for performance tuning.\n",
       "    var ws = {};\n",
       "\n",
       "    ws.close = function() {\n",
       "        comm.close()\n",
       "    };\n",
       "    ws.send = function(m) {\n",
       "        //console.log('sending', m);\n",
       "        comm.send(m);\n",
       "    };\n",
       "    // Register the callback with on_msg.\n",
       "    comm.on_msg(function(msg) {\n",
       "        //console.log('receiving', msg['content']['data'], msg);\n",
       "        // Pass the mpl event to the overridden (by mpl) onmessage function.\n",
       "        ws.onmessage(msg['content']['data'])\n",
       "    });\n",
       "    return ws;\n",
       "}\n",
       "\n",
       "mpl.mpl_figure_comm = function(comm, msg) {\n",
       "    // This is the function which gets called when the mpl process\n",
       "    // starts-up an IPython Comm through the \"matplotlib\" channel.\n",
       "\n",
       "    var id = msg.content.data.id;\n",
       "    // Get hold of the div created by the display call when the Comm\n",
       "    // socket was opened in Python.\n",
       "    var element = $(\"#\" + id);\n",
       "    var ws_proxy = comm_websocket_adapter(comm)\n",
       "\n",
       "    function ondownload(figure, format) {\n",
       "        window.open(figure.imageObj.src);\n",
       "    }\n",
       "\n",
       "    var fig = new mpl.figure(id, ws_proxy,\n",
       "                           ondownload,\n",
       "                           element.get(0));\n",
       "\n",
       "    // Call onopen now - mpl needs it, as it is assuming we've passed it a real\n",
       "    // web socket which is closed, not our websocket->open comm proxy.\n",
       "    ws_proxy.onopen();\n",
       "\n",
       "    fig.parent_element = element.get(0);\n",
       "    fig.cell_info = mpl.find_output_cell(\"<div id='\" + id + \"'></div>\");\n",
       "    if (!fig.cell_info) {\n",
       "        console.error(\"Failed to find cell for figure\", id, fig);\n",
       "        return;\n",
       "    }\n",
       "\n",
       "    var output_index = fig.cell_info[2]\n",
       "    var cell = fig.cell_info[0];\n",
       "\n",
       "};\n",
       "\n",
       "mpl.figure.prototype.handle_close = function(fig, msg) {\n",
       "    var width = fig.canvas.width/mpl.ratio\n",
       "    fig.root.unbind('remove')\n",
       "\n",
       "    // Update the output cell to use the data from the current canvas.\n",
       "    fig.push_to_output();\n",
       "    var dataURL = fig.canvas.toDataURL();\n",
       "    // Re-enable the keyboard manager in IPython - without this line, in FF,\n",
       "    // the notebook keyboard shortcuts fail.\n",
       "    IPython.keyboard_manager.enable()\n",
       "    $(fig.parent_element).html('<img src=\"' + dataURL + '\" width=\"' + width + '\">');\n",
       "    fig.close_ws(fig, msg);\n",
       "}\n",
       "\n",
       "mpl.figure.prototype.close_ws = function(fig, msg){\n",
       "    fig.send_message('closing', msg);\n",
       "    // fig.ws.close()\n",
       "}\n",
       "\n",
       "mpl.figure.prototype.push_to_output = function(remove_interactive) {\n",
       "    // Turn the data on the canvas into data in the output cell.\n",
       "    var width = this.canvas.width/mpl.ratio\n",
       "    var dataURL = this.canvas.toDataURL();\n",
       "    this.cell_info[1]['text/html'] = '<img src=\"' + dataURL + '\" width=\"' + width + '\">';\n",
       "}\n",
       "\n",
       "mpl.figure.prototype.updated_canvas_event = function() {\n",
       "    // Tell IPython that the notebook contents must change.\n",
       "    IPython.notebook.set_dirty(true);\n",
       "    this.send_message(\"ack\", {});\n",
       "    var fig = this;\n",
       "    // Wait a second, then push the new image to the DOM so\n",
       "    // that it is saved nicely (might be nice to debounce this).\n",
       "    setTimeout(function () { fig.push_to_output() }, 1000);\n",
       "}\n",
       "\n",
       "mpl.figure.prototype._init_toolbar = function() {\n",
       "    var fig = this;\n",
       "\n",
       "    var nav_element = $('<div/>')\n",
       "    nav_element.attr('style', 'width: 100%');\n",
       "    this.root.append(nav_element);\n",
       "\n",
       "    // Define a callback function for later on.\n",
       "    function toolbar_event(event) {\n",
       "        return fig.toolbar_button_onclick(event['data']);\n",
       "    }\n",
       "    function toolbar_mouse_event(event) {\n",
       "        return fig.toolbar_button_onmouseover(event['data']);\n",
       "    }\n",
       "\n",
       "    for(var toolbar_ind in mpl.toolbar_items){\n",
       "        var name = mpl.toolbar_items[toolbar_ind][0];\n",
       "        var tooltip = mpl.toolbar_items[toolbar_ind][1];\n",
       "        var image = mpl.toolbar_items[toolbar_ind][2];\n",
       "        var method_name = mpl.toolbar_items[toolbar_ind][3];\n",
       "\n",
       "        if (!name) { continue; };\n",
       "\n",
       "        var button = $('<button class=\"btn btn-default\" href=\"#\" title=\"' + name + '\"><i class=\"fa ' + image + ' fa-lg\"></i></button>');\n",
       "        button.click(method_name, toolbar_event);\n",
       "        button.mouseover(tooltip, toolbar_mouse_event);\n",
       "        nav_element.append(button);\n",
       "    }\n",
       "\n",
       "    // Add the status bar.\n",
       "    var status_bar = $('<span class=\"mpl-message\" style=\"text-align:right; float: right;\"/>');\n",
       "    nav_element.append(status_bar);\n",
       "    this.message = status_bar[0];\n",
       "\n",
       "    // Add the close button to the window.\n",
       "    var buttongrp = $('<div class=\"btn-group inline pull-right\"></div>');\n",
       "    var button = $('<button class=\"btn btn-mini btn-primary\" href=\"#\" title=\"Stop Interaction\"><i class=\"fa fa-power-off icon-remove icon-large\"></i></button>');\n",
       "    button.click(function (evt) { fig.handle_close(fig, {}); } );\n",
       "    button.mouseover('Stop Interaction', toolbar_mouse_event);\n",
       "    buttongrp.append(button);\n",
       "    var titlebar = this.root.find($('.ui-dialog-titlebar'));\n",
       "    titlebar.prepend(buttongrp);\n",
       "}\n",
       "\n",
       "mpl.figure.prototype._root_extra_style = function(el){\n",
       "    var fig = this\n",
       "    el.on(\"remove\", function(){\n",
       "\tfig.close_ws(fig, {});\n",
       "    });\n",
       "}\n",
       "\n",
       "mpl.figure.prototype._canvas_extra_style = function(el){\n",
       "    // this is important to make the div 'focusable\n",
       "    el.attr('tabindex', 0)\n",
       "    // reach out to IPython and tell the keyboard manager to turn it's self\n",
       "    // off when our div gets focus\n",
       "\n",
       "    // location in version 3\n",
       "    if (IPython.notebook.keyboard_manager) {\n",
       "        IPython.notebook.keyboard_manager.register_events(el);\n",
       "    }\n",
       "    else {\n",
       "        // location in version 2\n",
       "        IPython.keyboard_manager.register_events(el);\n",
       "    }\n",
       "\n",
       "}\n",
       "\n",
       "mpl.figure.prototype._key_event_extra = function(event, name) {\n",
       "    var manager = IPython.notebook.keyboard_manager;\n",
       "    if (!manager)\n",
       "        manager = IPython.keyboard_manager;\n",
       "\n",
       "    // Check for shift+enter\n",
       "    if (event.shiftKey && event.which == 13) {\n",
       "        this.canvas_div.blur();\n",
       "        event.shiftKey = false;\n",
       "        // Send a \"J\" for go to next cell\n",
       "        event.which = 74;\n",
       "        event.keyCode = 74;\n",
       "        manager.command_mode();\n",
       "        manager.handle_keydown(event);\n",
       "    }\n",
       "}\n",
       "\n",
       "mpl.figure.prototype.handle_save = function(fig, msg) {\n",
       "    fig.ondownload(fig, null);\n",
       "}\n",
       "\n",
       "\n",
       "mpl.find_output_cell = function(html_output) {\n",
       "    // Return the cell and output element which can be found *uniquely* in the notebook.\n",
       "    // Note - this is a bit hacky, but it is done because the \"notebook_saving.Notebook\"\n",
       "    // IPython event is triggered only after the cells have been serialised, which for\n",
       "    // our purposes (turning an active figure into a static one), is too late.\n",
       "    var cells = IPython.notebook.get_cells();\n",
       "    var ncells = cells.length;\n",
       "    for (var i=0; i<ncells; i++) {\n",
       "        var cell = cells[i];\n",
       "        if (cell.cell_type === 'code'){\n",
       "            for (var j=0; j<cell.output_area.outputs.length; j++) {\n",
       "                var data = cell.output_area.outputs[j];\n",
       "                if (data.data) {\n",
       "                    // IPython >= 3 moved mimebundle to data attribute of output\n",
       "                    data = data.data;\n",
       "                }\n",
       "                if (data['text/html'] == html_output) {\n",
       "                    return [cell, data, j];\n",
       "                }\n",
       "            }\n",
       "        }\n",
       "    }\n",
       "}\n",
       "\n",
       "// Register the function which deals with the matplotlib target/channel.\n",
       "// The kernel may be null if the page has been refreshed.\n",
       "if (IPython.notebook.kernel != null) {\n",
       "    IPython.notebook.kernel.comm_manager.register_target('matplotlib', mpl.mpl_figure_comm);\n",
       "}\n"
      ],
      "text/plain": [
       "<IPython.core.display.Javascript object>"
      ]
     },
     "metadata": {},
     "output_type": "display_data"
    },
    {
     "data": {
      "text/html": [
       "<img src=\"data:image/png;base64,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\" width=\"640\">"
      ],
      "text/plain": [
       "<IPython.core.display.HTML object>"
      ]
     },
     "metadata": {},
     "output_type": "display_data"
    }
   ],
   "source": [
    "%matplotlib notebook\n",
    "import matplotlib.pyplot as plt\n",
    "plt.hist(ages, bins=age_bins)\n",
    "plt.show()"
   ]
  },
  {
   "cell_type": "markdown",
   "metadata": {},
   "source": [
    "Note that we invoked the method `hist()` with arguments `ages` and `bins=age_bins`. In Python, function arguments can be *positional* like `ages` or *keyword* like `bins`.\n",
    "\n",
    "Positional arguments are order-dependent and must precede keyword arguments. Keyword arguments, instead, are order-independent."
   ]
  },
  {
   "cell_type": "markdown",
   "metadata": {},
   "source": [
    "## Dictionaries\n",
    "\n",
    "The built-in type `dict` implements a **hash map** as a mutable collection of key-value pairs. Dicts can be created using the syntax\n",
    "```\n",
    "{key_1 : value_1, ..., key_n : value_n}\n",
    "```"
   ]
  },
  {
   "cell_type": "code",
   "execution_count": 98,
   "metadata": {},
   "outputs": [
    {
     "data": {
      "text/plain": [
       "dict"
      ]
     },
     "execution_count": 98,
     "metadata": {},
     "output_type": "execute_result"
    }
   ],
   "source": [
    "d = {7 : 'pippo', 'b' : [1, 2, 3]}\n",
    "d ['b']\n",
    "type(d)"
   ]
  },
  {
   "cell_type": "markdown",
   "metadata": {},
   "source": [
    "While the values can be any object, keys are restricted to be **scalar (int, float, bool, str) or tuples** containing immutable objects. We can check whether an object can be used as a key using the `hash()` built-in function, which returns a hash code of its argument."
   ]
  },
  {
   "cell_type": "code",
   "execution_count": 90,
   "metadata": {},
   "outputs": [
    {
     "data": {
      "text/plain": [
       "3790877025495708951"
      ]
     },
     "execution_count": 90,
     "metadata": {},
     "output_type": "execute_result"
    }
   ],
   "source": [
    "hash(((1, 2, 3), 'pippo'))"
   ]
  },
  {
   "cell_type": "markdown",
   "metadata": {},
   "source": [
    "We can access the value associated with a key in a `dict` via the indexing operator `[]`."
   ]
  },
  {
   "cell_type": "code",
   "execution_count": 91,
   "metadata": {},
   "outputs": [
    {
     "data": {
      "text/plain": [
       "[1, 2, 3]"
      ]
     },
     "execution_count": 91,
     "metadata": {},
     "output_type": "execute_result"
    }
   ],
   "source": [
    "d['b']"
   ]
  },
  {
   "cell_type": "markdown",
   "metadata": {},
   "source": [
    "Adding elements to a dictionary is also done via the indexing operator, `dict_name[<key>] = <value>`"
   ]
  },
  {
   "cell_type": "code",
   "execution_count": 99,
   "metadata": {},
   "outputs": [
    {
     "data": {
      "text/plain": [
       "{7: 'pippo', 'b': [1, 2, 3], (1, 2): 'c'}"
      ]
     },
     "execution_count": 99,
     "metadata": {},
     "output_type": "execute_result"
    }
   ],
   "source": [
    "d[(1,2)] = 'c'\n",
    "d"
   ]
  },
  {
   "cell_type": "markdown",
   "metadata": {},
   "source": [
    "We can search for a key using the `in` operator, and delete an entry using the `del()` keyword or the `pop()` method."
   ]
  },
  {
   "cell_type": "code",
   "execution_count": 100,
   "metadata": {},
   "outputs": [
    {
     "data": {
      "text/plain": [
       "True"
      ]
     },
     "execution_count": 100,
     "metadata": {},
     "output_type": "execute_result"
    }
   ],
   "source": [
    "(1,2) in d"
   ]
  },
  {
   "cell_type": "code",
   "execution_count": 104,
   "metadata": {},
   "outputs": [
    {
     "data": {
      "text/plain": [
       "{(1, 2): 'c'}"
      ]
     },
     "execution_count": 104,
     "metadata": {},
     "output_type": "execute_result"
    }
   ],
   "source": [
    "del d['b']\n",
    "d"
   ]
  },
  {
   "cell_type": "code",
   "execution_count": 103,
   "metadata": {},
   "outputs": [
    {
     "data": {
      "text/plain": [
       "{'b': [1, 2, 3], (1, 2): 'c'}"
      ]
     },
     "execution_count": 103,
     "metadata": {},
     "output_type": "execute_result"
    }
   ],
   "source": [
    "d.pop(7) #del d[7]\n",
    "d"
   ]
  },
  {
   "cell_type": "markdown",
   "metadata": {},
   "source": [
    "Similarly to the method `extend()` for lists, the method `update()` merges two dictionaries."
   ]
  },
  {
   "cell_type": "code",
   "execution_count": 105,
   "metadata": {},
   "outputs": [
    {
     "data": {
      "text/plain": [
       "{0: 'a', 1: 'b', 2: 'c'}"
      ]
     },
     "execution_count": 105,
     "metadata": {},
     "output_type": "execute_result"
    }
   ],
   "source": [
    "d = {} # empty dictionary\n",
    "d2 = {0: 'a', 1 : 'b', 2 : 'c'}\n",
    "d.update(d2)\n",
    "d"
   ]
  },
  {
   "cell_type": "markdown",
   "metadata": {},
   "source": [
    "We can extract the keys and the values in a dictionary using the methods `keys()` and `values()`. Since these methods return specific objects, we can use the type constructor `list()` to make them into lists."
   ]
  },
  {
   "cell_type": "code",
   "execution_count": 106,
   "metadata": {},
   "outputs": [
    {
     "data": {
      "text/plain": [
       "[0, 1, 2]"
      ]
     },
     "execution_count": 106,
     "metadata": {},
     "output_type": "execute_result"
    }
   ],
   "source": [
    "list(d.keys())"
   ]
  },
  {
   "cell_type": "code",
   "execution_count": 107,
   "metadata": {},
   "outputs": [
    {
     "data": {
      "text/plain": [
       "['a', 'b', 'c']"
      ]
     },
     "execution_count": 107,
     "metadata": {},
     "output_type": "execute_result"
    }
   ],
   "source": [
    "list(d.values())"
   ]
  },
  {
   "cell_type": "markdown",
   "metadata": {},
   "source": [
    "Similarly, the method `items()` can be used to obtain a list of pairs `(key, value)`."
   ]
  },
  {
   "cell_type": "code",
   "execution_count": 108,
   "metadata": {},
   "outputs": [
    {
     "data": {
      "text/plain": [
       "[(0, 'a'), (1, 'b'), (2, 'c')]"
      ]
     },
     "execution_count": 108,
     "metadata": {},
     "output_type": "execute_result"
    }
   ],
   "source": [
    "list(d.items())"
   ]
  },
  {
   "cell_type": "markdown",
   "metadata": {},
   "source": [
    "The structure returned by `items()` can be used to iterate over the pairs (key,value) of a dictionary."
   ]
  },
  {
   "cell_type": "code",
   "execution_count": 110,
   "metadata": {
    "scrolled": true
   },
   "outputs": [
    {
     "name": "stdout",
     "output_type": "stream",
     "text": [
      "person have 2 legs\n",
      "cat have 4 legs\n",
      "spider have 8 legs\n"
     ]
    }
   ],
   "source": [
    "d = {'person': 2, 'cat': 4, 'spider': 8}\n",
    "for (animal, legs) in d.items():\n",
    "    print(animal + ' have ' + str(legs) +\" legs\") # use the type constructor str() to convert an int into a string"
   ]
  },
  {
   "cell_type": "markdown",
   "metadata": {},
   "source": [
    "In order to create a dictionary, we can use use the indexing operator."
   ]
  },
  {
   "cell_type": "code",
   "execution_count": 42,
   "metadata": {},
   "outputs": [
    {
     "data": {
      "text/plain": [
       "{0: 0, 1: 1, 2: 4}"
      ]
     },
     "execution_count": 42,
     "metadata": {},
     "output_type": "execute_result"
    }
   ],
   "source": [
    "d = {}\n",
    "a = [0, 1, 2]\n",
    "for key in a:\n",
    "    d[key] = key**2\n",
    "d"
   ]
  },
  {
   "cell_type": "markdown",
   "metadata": {},
   "source": [
    "If key and values are available as lists, we can create the dictionary using the type constructor `dict()` applied to a zip object."
   ]
  },
  {
   "cell_type": "code",
   "execution_count": 43,
   "metadata": {},
   "outputs": [
    {
     "data": {
      "text/plain": [
       "{0: 'pippo', 1: 'pluto', 2: 'paperino'}"
      ]
     },
     "execution_count": 43,
     "metadata": {},
     "output_type": "execute_result"
    }
   ],
   "source": [
    "a = [0, 1, 2]\n",
    "b = ['pippo', 'pluto', 'paperino']\n",
    "d = dict(zip(a,b))\n",
    "d"
   ]
  },
  {
   "cell_type": "markdown",
   "metadata": {},
   "source": [
    "Alternatively, we can use a **dict comprehension**"
   ]
  },
  {
   "cell_type": "code",
   "execution_count": 44,
   "metadata": {},
   "outputs": [
    {
     "data": {
      "text/plain": [
       "{0: 0, 2: 4, 4: 16, 6: 36, 8: 64}"
      ]
     },
     "execution_count": 44,
     "metadata": {},
     "output_type": "execute_result"
    }
   ],
   "source": [
    "nums = range(0,10)\n",
    "d = {x : x**2 for x in nums if x % 2 == 0}\n",
    "d"
   ]
  },
  {
   "cell_type": "markdown",
   "metadata": {},
   "source": [
    "Similarly to list comprehensions, the above corresponds to the following code. "
   ]
  },
  {
   "cell_type": "code",
   "execution_count": 111,
   "metadata": {},
   "outputs": [
    {
     "data": {
      "text/plain": [
       "{0: 0, 2: 4, 4: 16, 6: 36, 8: 64}"
      ]
     },
     "execution_count": 111,
     "metadata": {},
     "output_type": "execute_result"
    }
   ],
   "source": [
    "d = {}\n",
    "for x in range(0,10):\n",
    "    if x % 2 == 0:\n",
    "        d[x] = x**2\n",
    "d"
   ]
  },
  {
   "cell_type": "markdown",
   "metadata": {},
   "source": [
    "## Sorting\n",
    "Python has a `sorted()` built-in function that builds a **new sorted list** from any object whose elements can be enumerated (lists, tuples, strings, dictionaries). These objected are called *iterables* in Python.\n",
    "\n",
    "Lists have also a built-in `list.sort()` method that modifies the list **in-place**."
   ]
  },
  {
   "cell_type": "code",
   "execution_count": 123,
   "metadata": {},
   "outputs": [
    {
     "name": "stdout",
     "output_type": "stream",
     "text": [
      "a = [5, 2, 3, 1, 4]\n",
      "b = [1, 2, 3, 4, 5]\n"
     ]
    }
   ],
   "source": [
    "a = [5, 2, 3, 1, 4]\n",
    "b = sorted(a)\n",
    "print(\"a = \" +str(a))\n",
    "print(\"b = \" + str(b))"
   ]
  },
  {
   "cell_type": "code",
   "execution_count": 125,
   "metadata": {},
   "outputs": [
    {
     "data": {
      "text/plain": [
       "[1, 2, 3, 4, 5]"
      ]
     },
     "execution_count": 125,
     "metadata": {},
     "output_type": "execute_result"
    }
   ],
   "source": [
    "a = [5, 2, 3, 1, 4]\n",
    "a.sort()  ### sorted(a) VS a.sort()\n",
    "a"
   ]
  },
  {
   "cell_type": "code",
   "execution_count": 128,
   "metadata": {},
   "outputs": [
    {
     "data": {
      "text/plain": [
       "['cat', 'person', 'spider']"
      ]
     },
     "execution_count": 128,
     "metadata": {},
     "output_type": "execute_result"
    }
   ],
   "source": [
    "d = {'person': 2, 'cat': 4, 'spider': 8}\n",
    "sorted(d)"
   ]
  },
  {
   "cell_type": "markdown",
   "metadata": {},
   "source": [
    "In the next example we apply `sorted()` to the iterable returned by `items()`."
   ]
  },
  {
   "cell_type": "code",
   "execution_count": 49,
   "metadata": {},
   "outputs": [
    {
     "name": "stdout",
     "output_type": "stream",
     "text": [
      "cat = 4\n",
      "person = 2\n",
      "spider = 8\n"
     ]
    }
   ],
   "source": [
    "d = {'person': 2, 'cat': 4, 'spider': 8}\n",
    "for (animal, legs) in sorted(d.items()):\n",
    "    print(animal + ' = ' + str(legs))"
   ]
  }
 ],
 "metadata": {
  "kernelspec": {
   "display_name": "Python 3",
   "language": "python",
   "name": "python3"
  },
  "language_info": {
   "codemirror_mode": {
    "name": "ipython",
    "version": 3
   },
   "file_extension": ".py",
   "mimetype": "text/x-python",
   "name": "python",
   "nbconvert_exporter": "python",
   "pygments_lexer": "ipython3",
   "version": "3.7.4"
  },
  "latex_envs": {
   "LaTeX_envs_menu_present": true,
   "autoclose": false,
   "autocomplete": true,
   "bibliofile": "biblio.bib",
   "cite_by": "apalike",
   "current_citInitial": 1,
   "eqLabelWithNumbers": true,
   "eqNumInitial": 1,
   "hotkeys": {
    "equation": "Ctrl-E",
    "itemize": "Ctrl-I"
   },
   "labels_anchors": false,
   "latex_user_defs": false,
   "report_style_numbering": false,
   "user_envs_cfg": false
  }
 },
 "nbformat": 4,
 "nbformat_minor": 2
}
