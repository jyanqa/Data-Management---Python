{
 "cells": [
  {
   "cell_type": "markdown",
   "metadata": {},
   "source": [
    "# Functions\n",
    "\n",
    "We look very briefly at the way functions are defined and called.\n",
    "\n",
    "This function takes a list as argument, builds a dictionary of counts for its elements, and returns the list version of the dictionary.\n",
    "\n",
    "`s` is the *formal parameter* of the function `get_counts`. The argument `a` in the call `get_counts(a)` is the *actual parameter*.\n",
    "\n",
    "When the call is executed, a *local variable* `s` is created and the assignment `s = a` is made."
   ]
  },
  {
   "cell_type": "code",
   "execution_count": 1,
   "metadata": {},
   "outputs": [],
   "source": [
    "def get_counts(s):\n",
    "    counts = {} # build empty dictionary\n",
    "\n",
    "    for x in s:\n",
    "        if x in counts:\n",
    "            counts[x] += 1\n",
    "        else:\n",
    "            counts[x] = 1\n",
    "\n",
    "    pairs = counts.items()\n",
    "    return list(pairs) # the argument of the return statement is the value produced by the function"
   ]
  },
  {
   "cell_type": "code",
   "execution_count": 3,
   "metadata": {},
   "outputs": [
    {
     "data": {
      "text/plain": [
       "[('c', 3), ('d', 2), ('a', 2), ('b', 1)]"
      ]
     },
     "execution_count": 3,
     "metadata": {},
     "output_type": "execute_result"
    }
   ],
   "source": [
    "a = ['c', 'c', 'd', 'a', 'c', 'a', 'd', 'b']\n",
    "get_counts(a)"
   ]
  },
  {
   "cell_type": "markdown",
   "metadata": {},
   "source": [
    "Since the local variable is referencing the same object referenced by `a`, the code in the function can modify the argument.\n",
    "\n",
    "We see this in the next example, where we define a function that takes a list of scalars in input and multiplies each element of the list by 2."
   ]
  },
  {
   "cell_type": "code",
   "execution_count": 4,
   "metadata": {},
   "outputs": [],
   "source": [
    "def double_list(some_list):\n",
    "    for pos in range(len(some_list)):\n",
    "        some_list[pos] *= 2"
   ]
  },
  {
   "cell_type": "code",
   "execution_count": 5,
   "metadata": {},
   "outputs": [
    {
     "data": {
      "text/plain": [
       "[2, 6, 10, 14]"
      ]
     },
     "execution_count": 5,
     "metadata": {},
     "output_type": "execute_result"
    }
   ],
   "source": [
    "s = [1, 3, 5, 7]\n",
    "double_list(s)\n",
    "s"
   ]
  },
  {
   "cell_type": "markdown",
   "metadata": {},
   "source": [
    "Note that the type `str` also supports the multiplication operator."
   ]
  },
  {
   "cell_type": "code",
   "execution_count": 6,
   "metadata": {},
   "outputs": [
    {
     "data": {
      "text/plain": [
       "['pippopippo', 'plutopluto', 'paperinopaperino']"
      ]
     },
     "execution_count": 6,
     "metadata": {},
     "output_type": "execute_result"
    }
   ],
   "source": [
    "s = ['pippo', 'pluto', 'paperino']\n",
    "double_list(s)\n",
    "s"
   ]
  },
  {
   "cell_type": "markdown",
   "metadata": {},
   "source": [
    "Functions are objects. Hence, we can call a function through a variable referencing the function. We show an example using the methods `strip()` and `capitalize()` for the type `str`.\n",
    "\n",
    "Note that in Python the method invocation format `x.method(args)` is equivalent to `type.method(x, args)` where `type` is the type of the object the variable `x` refers to.\n",
    "\n",
    "For example, if `d` refers to an object of type `dict` that contains the key `7`, then `d.pop(7)` is equivalent to `dict.pop(d,7)`."
   ]
  },
  {
   "cell_type": "code",
   "execution_count": 13,
   "metadata": {},
   "outputs": [],
   "source": [
    "names = ['Alfred  ', 'carl', '  Danny    ', 'lucy   ']\n",
    "clean_ops = [str.strip, str.capitalize] #strip to remove the spaces\n",
    "result = []\n",
    "for s in names:\n",
    "    for f in clean_ops:\n",
    "        s = f(s)\n",
    "    result.append(s)"
   ]
  },
  {
   "cell_type": "code",
   "execution_count": 14,
   "metadata": {},
   "outputs": [
    {
     "data": {
      "text/plain": [
       "['Alfred', 'Carl', 'Danny', 'Lucy']"
      ]
     },
     "execution_count": 14,
     "metadata": {},
     "output_type": "execute_result"
    }
   ],
   "source": [
    "result"
   ]
  },
  {
   "cell_type": "markdown",
   "metadata": {},
   "source": [
    "## Anonymous functions\n",
    "\n",
    "Python has a compact way of defining functions consisting of a single statement.\n",
    "\n",
    "Consider the `sort()` method for lists."
   ]
  },
  {
   "cell_type": "code",
   "execution_count": 15,
   "metadata": {},
   "outputs": [
    {
     "data": {
      "text/plain": [
       "['b', 'ba', 'bar', 'baz', 'f', 'fo', 'foo']"
      ]
     },
     "execution_count": 15,
     "metadata": {},
     "output_type": "execute_result"
    }
   ],
   "source": [
    "strings = ['foo', 'bar', 'baz', 'f', 'fo', 'b', 'ba']\n",
    "strings.sort()\n",
    "strings"
   ]
  },
  {
   "cell_type": "markdown",
   "metadata": {},
   "source": [
    "Using the keyword argument `key` we can pass a function to the method `sort()`. `key` specifies a function of one argument that is used to compute a **comparison key** from each list element. The key corresponding to each item in the list is calculated once and then used for the entire sorting process.\n",
    "\n",
    "We can assign to `key` a function defined using the `lambda` notation. The value returned by the function is the value computed by the statement. Namely, `len(x)` in this case."
   ]
  },
  {
   "cell_type": "code",
   "execution_count": 19,
   "metadata": {},
   "outputs": [
    {
     "data": {
      "text/plain": [
       "['b', 'f', 'ba', 'fo', 'bar', 'baz', 'foo']"
      ]
     },
     "execution_count": 19,
     "metadata": {},
     "output_type": "execute_result"
    }
   ],
   "source": [
    "strings.sort(key = lambda x:  len(x)) \n",
    "#strings.sort(key = lambda x:  x)\n",
    "strings"
   ]
  },
  {
   "cell_type": "markdown",
   "metadata": {},
   "source": [
    "In the next example, we use an anonymous function to sort a list of tuples according to a specific component of the tuple."
   ]
  },
  {
   "cell_type": "code",
   "execution_count": 10,
   "metadata": {},
   "outputs": [
    {
     "data": {
      "text/plain": [
       "[('dave', 'M', 10), ('jane', 'F', 12), ('john', 'M', 15)]"
      ]
     },
     "execution_count": 10,
     "metadata": {},
     "output_type": "execute_result"
    }
   ],
   "source": [
    "student_tuples = [\n",
    "    ('john', 'M', 15),\n",
    "    ('jane', 'F', 12),\n",
    "    ('dave', 'M', 10),\n",
    "]\n",
    "sorted(student_tuples, key = lambda s: s[2])"
   ]
  },
  {
   "cell_type": "markdown",
   "metadata": {},
   "source": [
    "## Modules\n",
    "Writing a Python module on file is easy. We use the cell magic command `%% writefile <filename>` to write the content of a cell to a file."
   ]
  },
  {
   "cell_type": "code",
   "execution_count": 35,
   "metadata": {},
   "outputs": [
    {
     "name": "stdout",
     "output_type": "stream",
     "text": [
      "Overwriting fibo.py\n"
     ]
    }
   ],
   "source": [
    "%%writefile fibo.py\n",
    "\n",
    "# Fibonacci numbers module, 1, 1, 2, 3, 5, 8, 13, ...\n",
    "\n",
    "def fib(n):    # write Fibonacci series up to n\n",
    "    a, b = 0, 1\n",
    "    while a < n:\n",
    "        print(b, end=' ')\n",
    "        a, b = b, a+b\n",
    "    print()\n",
    "\n",
    "def fib2(n):   # return Fibonacci series up to n\n",
    "    result = []\n",
    "    a, b = 0, 1\n",
    "    while a < n:\n",
    "        result.append(a)\n",
    "        a, b = b, a+b\n",
    "    return result"
   ]
  },
  {
   "cell_type": "code",
   "execution_count": 15,
   "metadata": {},
   "outputs": [
    {
     "name": "stdout",
     "output_type": "stream",
     "text": [
      "3 3 3 2\n",
      "4 4 4 3\n",
      "5 6 6 4\n",
      "6 9 9 6\n"
     ]
    },
    {
     "data": {
      "text/plain": [
       "9"
      ]
     },
     "execution_count": 15,
     "metadata": {},
     "output_type": "execute_result"
    }
   ],
   "source": [
    "def f(n):\n",
    "    a, b, c, counter = 2,2,2,2\n",
    "    while (counter < n):\n",
    "        counter += 1\n",
    "        a = b + c -1\n",
    "        c = b\n",
    "        b = a\n",
    "        print(counter,a,b,c)\n",
    "    return a \n",
    "f(6)"
   ]
  },
  {
   "cell_type": "markdown",
   "metadata": {},
   "source": [
    "We check that the file has been indeed written"
   ]
  },
  {
   "cell_type": "code",
   "execution_count": 36,
   "metadata": {},
   "outputs": [
    {
     "name": "stdout",
     "output_type": "stream",
     "text": [
      "\r\n",
      "# Fibonacci numbers module, 1, 1, 2, 3, 5, 8, 13, ...\r\n",
      "\r\n",
      "def fib(n):    # write Fibonacci series up to n\r\n",
      "    a, b = 0, 1\r\n",
      "    while a < n:\r\n",
      "        print(b, end=' ')\r\n",
      "        a, b = b, a+b\r\n",
      "    print()\r\n",
      "\r\n",
      "def fib2(n):   # return Fibonacci series up to n\r\n",
      "    result = []\r\n",
      "    a, b = 0, 1\r\n",
      "    while a < n:\r\n",
      "        result.append(a)\r\n",
      "        a, b = b, a+b\r\n",
      "    return result\r\n"
     ]
    }
   ],
   "source": [
    "!cat fibo.py"
   ]
  },
  {
   "cell_type": "markdown",
   "metadata": {},
   "source": [
    "Note that the functions `fib()` and `fib2()` are not defined yet (the magic command just wrote them on file).\n",
    "\n",
    "Indeed, issuing `fib(5)` now results in an error message\n",
    "\n",
    "Hence we need to load the module."
   ]
  },
  {
   "cell_type": "code",
   "execution_count": 1,
   "metadata": {},
   "outputs": [
    {
     "name": "stdout",
     "output_type": "stream",
     "text": [
      "1 1 2 3 5 8 \n"
     ]
    }
   ],
   "source": [
    "import fibo\n",
    "fibo.fib(6)"
   ]
  },
  {
   "cell_type": "markdown",
   "metadata": {},
   "source": [
    "Another useful magic command is `%timeit`, which automatically computes the execution time of the single-line Python statement that follows it by performing multiple runs."
   ]
  },
  {
   "cell_type": "code",
   "execution_count": 14,
   "metadata": {},
   "outputs": [
    {
     "name": "stdout",
     "output_type": "stream",
     "text": [
      "241 µs ± 9 µs per loop (mean ± std. dev. of 7 runs, 1000 loops each)\n"
     ]
    }
   ],
   "source": [
    "%timeit [n ** 2 for n in range(1000)]"
   ]
  },
  {
   "cell_type": "markdown",
   "metadata": {},
   "source": [
    "This can be used to compare the efficiency of different approaches to perform a certain task.\n",
    "\n",
    "For example, the next cell shows that list comprehensions are more than 10% faster than equivalent for loops.\n",
    "\n",
    "In this case, we use the *cell mode* version of the command, where the statement in the first line is used as setup code (executed but not timed) and the body of the cell is timed. "
   ]
  },
  {
   "cell_type": "code",
   "execution_count": 40,
   "metadata": {},
   "outputs": [
    {
     "name": "stdout",
     "output_type": "stream",
     "text": [
      "572 µs ± 30.3 µs per loop (mean ± std. dev. of 7 runs, 1000 loops each)\n"
     ]
    }
   ],
   "source": [
    "%%timeit L = []\n",
    "for n in range(1000):\n",
    "    L.append(n ** 2)"
   ]
  }
 ],
 "metadata": {
  "kernelspec": {
   "display_name": "Python 3",
   "language": "python",
   "name": "python3"
  },
  "language_info": {
   "codemirror_mode": {
    "name": "ipython",
    "version": 3
   },
   "file_extension": ".py",
   "mimetype": "text/x-python",
   "name": "python",
   "nbconvert_exporter": "python",
   "pygments_lexer": "ipython3",
   "version": "3.7.4"
  },
  "latex_envs": {
   "LaTeX_envs_menu_present": true,
   "autoclose": false,
   "autocomplete": true,
   "bibliofile": "biblio.bib",
   "cite_by": "apalike",
   "current_citInitial": 1,
   "eqLabelWithNumbers": true,
   "eqNumInitial": 1,
   "hotkeys": {
    "equation": "Ctrl-E",
    "itemize": "Ctrl-I"
   },
   "labels_anchors": false,
   "latex_user_defs": false,
   "report_style_numbering": false,
   "user_envs_cfg": false
  }
 },
 "nbformat": 4,
 "nbformat_minor": 2
}
